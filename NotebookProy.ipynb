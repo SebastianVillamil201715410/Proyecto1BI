{
 "cells": [
  {
   "cell_type": "markdown",
   "metadata": {},
   "source": [
    "### Importación Librerías"
   ]
  },
  {
   "cell_type": "code",
   "execution_count": 192,
   "metadata": {},
   "outputs": [],
   "source": [
    "import pandas as pd\n",
    "import numpy as np\n",
    "import seaborn as sns\n",
    "import math\n",
    "import matplotlib.pyplot as plt\n",
    "import nltk\n",
    "import string\n",
    "import re\n",
    "from nltk.corpus import stopwords\n",
    "from nltk.stem import PorterStemmer\n",
    "%matplotlib inline"
   ]
  },
  {
   "cell_type": "markdown",
   "metadata": {},
   "source": [
    "### Importación Datos"
   ]
  },
  {
   "cell_type": "code",
   "execution_count": 193,
   "metadata": {},
   "outputs": [
    {
     "data": {
      "text/html": [
       "<div>\n",
       "<style scoped>\n",
       "    .dataframe tbody tr th:only-of-type {\n",
       "        vertical-align: middle;\n",
       "    }\n",
       "\n",
       "    .dataframe tbody tr th {\n",
       "        vertical-align: top;\n",
       "    }\n",
       "\n",
       "    .dataframe thead th {\n",
       "        text-align: right;\n",
       "    }\n",
       "</style>\n",
       "<table border=\"1\" class=\"dataframe\">\n",
       "  <thead>\n",
       "    <tr style=\"text-align: right;\">\n",
       "      <th></th>\n",
       "      <th>Comentario</th>\n",
       "      <th>Emocion</th>\n",
       "    </tr>\n",
       "  </thead>\n",
       "  <tbody>\n",
       "    <tr>\n",
       "      <th>0</th>\n",
       "      <td>i didnt feel humiliated</td>\n",
       "      <td>sadness</td>\n",
       "    </tr>\n",
       "    <tr>\n",
       "      <th>1</th>\n",
       "      <td>i can go from feeling so hopeless to so damned...</td>\n",
       "      <td>sadness</td>\n",
       "    </tr>\n",
       "    <tr>\n",
       "      <th>2</th>\n",
       "      <td>im grabbing a minute to post i feel greedy wrong</td>\n",
       "      <td>anger</td>\n",
       "    </tr>\n",
       "    <tr>\n",
       "      <th>3</th>\n",
       "      <td>i am ever feeling nostalgic about the fireplac...</td>\n",
       "      <td>love</td>\n",
       "    </tr>\n",
       "    <tr>\n",
       "      <th>4</th>\n",
       "      <td>i am feeling grouchy</td>\n",
       "      <td>anger</td>\n",
       "    </tr>\n",
       "    <tr>\n",
       "      <th>5</th>\n",
       "      <td>ive been feeling a little burdened lately wasn...</td>\n",
       "      <td>sadness</td>\n",
       "    </tr>\n",
       "    <tr>\n",
       "      <th>6</th>\n",
       "      <td>ive been taking or milligrams or times recomme...</td>\n",
       "      <td>surprise</td>\n",
       "    </tr>\n",
       "    <tr>\n",
       "      <th>7</th>\n",
       "      <td>i feel as confused about life as a teenager or...</td>\n",
       "      <td>fear</td>\n",
       "    </tr>\n",
       "    <tr>\n",
       "      <th>8</th>\n",
       "      <td>i have been with petronas for years i feel tha...</td>\n",
       "      <td>joy</td>\n",
       "    </tr>\n",
       "    <tr>\n",
       "      <th>9</th>\n",
       "      <td>i feel romantic too</td>\n",
       "      <td>love</td>\n",
       "    </tr>\n",
       "  </tbody>\n",
       "</table>\n",
       "</div>"
      ],
      "text/plain": [
       "                                          Comentario   Emocion\n",
       "0                            i didnt feel humiliated   sadness\n",
       "1  i can go from feeling so hopeless to so damned...   sadness\n",
       "2   im grabbing a minute to post i feel greedy wrong     anger\n",
       "3  i am ever feeling nostalgic about the fireplac...      love\n",
       "4                               i am feeling grouchy     anger\n",
       "5  ive been feeling a little burdened lately wasn...   sadness\n",
       "6  ive been taking or milligrams or times recomme...  surprise\n",
       "7  i feel as confused about life as a teenager or...      fear\n",
       "8  i have been with petronas for years i feel tha...       joy\n",
       "9                                i feel romantic too      love"
      ]
     },
     "execution_count": 193,
     "metadata": {},
     "output_type": "execute_result"
    }
   ],
   "source": [
    "datosEntrenamiento = pd.read_csv('ProyectoDatos.txt', sep=';', encoding = 'utf-8')\n",
    "datosEntrenamiento.head(10)"
   ]
  },
  {
   "cell_type": "markdown",
   "metadata": {},
   "source": [
    "## Fase 1 - Perfilamiento de los Datos"
   ]
  },
  {
   "cell_type": "code",
   "execution_count": 194,
   "metadata": {
    "scrolled": true
   },
   "outputs": [
    {
     "name": "stdout",
     "output_type": "stream",
     "text": [
      "<class 'pandas.core.frame.DataFrame'>\n",
      "RangeIndex: 16000 entries, 0 to 15999\n",
      "Data columns (total 2 columns):\n",
      " #   Column      Non-Null Count  Dtype \n",
      "---  ------      --------------  ----- \n",
      " 0   Comentario  16000 non-null  object\n",
      " 1   Emocion     16000 non-null  object\n",
      "dtypes: object(2)\n",
      "memory usage: 250.1+ KB\n"
     ]
    }
   ],
   "source": [
    "datosEntrenamiento.info()"
   ]
  },
  {
   "cell_type": "markdown",
   "metadata": {},
   "source": [
    "\n",
    "* Los datos tienen 16,000 registros y 2 columnas\n",
    "* Las 2 columnas son de tipo object\n"
   ]
  },
  {
   "cell_type": "code",
   "execution_count": 195,
   "metadata": {},
   "outputs": [
    {
     "data": {
      "text/html": [
       "<div>\n",
       "<style scoped>\n",
       "    .dataframe tbody tr th:only-of-type {\n",
       "        vertical-align: middle;\n",
       "    }\n",
       "\n",
       "    .dataframe tbody tr th {\n",
       "        vertical-align: top;\n",
       "    }\n",
       "\n",
       "    .dataframe thead th {\n",
       "        text-align: right;\n",
       "    }\n",
       "</style>\n",
       "<table border=\"1\" class=\"dataframe\">\n",
       "  <thead>\n",
       "    <tr style=\"text-align: right;\">\n",
       "      <th></th>\n",
       "      <th>Comentario</th>\n",
       "      <th>Emocion</th>\n",
       "    </tr>\n",
       "  </thead>\n",
       "  <tbody>\n",
       "    <tr>\n",
       "      <th>count</th>\n",
       "      <td>16000</td>\n",
       "      <td>16000</td>\n",
       "    </tr>\n",
       "    <tr>\n",
       "      <th>unique</th>\n",
       "      <td>15969</td>\n",
       "      <td>6</td>\n",
       "    </tr>\n",
       "    <tr>\n",
       "      <th>top</th>\n",
       "      <td>i could feel myself hit this strange foggy wall</td>\n",
       "      <td>joy</td>\n",
       "    </tr>\n",
       "    <tr>\n",
       "      <th>freq</th>\n",
       "      <td>2</td>\n",
       "      <td>5362</td>\n",
       "    </tr>\n",
       "  </tbody>\n",
       "</table>\n",
       "</div>"
      ],
      "text/plain": [
       "                                             Comentario Emocion\n",
       "count                                             16000   16000\n",
       "unique                                            15969       6\n",
       "top     i could feel myself hit this strange foggy wall     joy\n",
       "freq                                                  2    5362"
      ]
     },
     "execution_count": 195,
     "metadata": {},
     "output_type": "execute_result"
    }
   ],
   "source": [
    "pd.set_option('display.max_rows', 500)\n",
    "pd.set_option('display.max_columns', 500)\n",
    "pd.set_option('display.width', 1000)\n",
    "datosEntrenamiento.describe(include=[object])"
   ]
  },
  {
   "cell_type": "code",
   "execution_count": 196,
   "metadata": {},
   "outputs": [],
   "source": [
    "datosEntrenamiento['Emocion'].replace(to_replace = ['joy'], value = '1', inplace = True)\n",
    "datosEntrenamiento['Emocion'].replace(to_replace = ['sadness'], value = '2', inplace = True)\n",
    "datosEntrenamiento['Emocion'].replace(to_replace = ['anger'], value = '3', inplace = True)\n",
    "datosEntrenamiento['Emocion'].replace(to_replace = ['fear'], value = '4', inplace = True)\n",
    "datosEntrenamiento['Emocion'].replace(to_replace = ['love'], value = '5', inplace = True)\n",
    "datosEntrenamiento['Emocion'].replace(to_replace = ['surprise'], value = '6', inplace = True)"
   ]
  },
  {
   "cell_type": "code",
   "execution_count": 197,
   "metadata": {},
   "outputs": [],
   "source": [
    "datosEntrenamiento['Emocion'] = pd.to_numeric(datosEntrenamiento.Emocion, errors = 'coerce')"
   ]
  },
  {
   "cell_type": "code",
   "execution_count": 198,
   "metadata": {
    "scrolled": true
   },
   "outputs": [
    {
     "data": {
      "text/html": [
       "<div>\n",
       "<style scoped>\n",
       "    .dataframe tbody tr th:only-of-type {\n",
       "        vertical-align: middle;\n",
       "    }\n",
       "\n",
       "    .dataframe tbody tr th {\n",
       "        vertical-align: top;\n",
       "    }\n",
       "\n",
       "    .dataframe thead th {\n",
       "        text-align: right;\n",
       "    }\n",
       "</style>\n",
       "<table border=\"1\" class=\"dataframe\">\n",
       "  <thead>\n",
       "    <tr style=\"text-align: right;\">\n",
       "      <th></th>\n",
       "      <th>Emocion</th>\n",
       "    </tr>\n",
       "  </thead>\n",
       "  <tbody>\n",
       "    <tr>\n",
       "      <th>count</th>\n",
       "      <td>16000.000000</td>\n",
       "    </tr>\n",
       "    <tr>\n",
       "      <th>mean</th>\n",
       "      <td>2.429438</td>\n",
       "    </tr>\n",
       "    <tr>\n",
       "      <th>std</th>\n",
       "      <td>1.440668</td>\n",
       "    </tr>\n",
       "    <tr>\n",
       "      <th>min</th>\n",
       "      <td>1.000000</td>\n",
       "    </tr>\n",
       "    <tr>\n",
       "      <th>25%</th>\n",
       "      <td>1.000000</td>\n",
       "    </tr>\n",
       "    <tr>\n",
       "      <th>50%</th>\n",
       "      <td>2.000000</td>\n",
       "    </tr>\n",
       "    <tr>\n",
       "      <th>75%</th>\n",
       "      <td>3.000000</td>\n",
       "    </tr>\n",
       "    <tr>\n",
       "      <th>max</th>\n",
       "      <td>6.000000</td>\n",
       "    </tr>\n",
       "  </tbody>\n",
       "</table>\n",
       "</div>"
      ],
      "text/plain": [
       "            Emocion\n",
       "count  16000.000000\n",
       "mean       2.429438\n",
       "std        1.440668\n",
       "min        1.000000\n",
       "25%        1.000000\n",
       "50%        2.000000\n",
       "75%        3.000000\n",
       "max        6.000000"
      ]
     },
     "execution_count": 198,
     "metadata": {},
     "output_type": "execute_result"
    }
   ],
   "source": [
    "datosEntrenamiento.describe(include=[np.number])"
   ]
  },
  {
   "cell_type": "markdown",
   "metadata": {},
   "source": [
    "* La columna Emocion es nuestra variable a predecir, esto va de 1 a 6. "
   ]
  },
  {
   "cell_type": "code",
   "execution_count": 199,
   "metadata": {},
   "outputs": [
    {
     "data": {
      "text/plain": [
       "15969"
      ]
     },
     "execution_count": 199,
     "metadata": {},
     "output_type": "execute_result"
    }
   ],
   "source": [
    "datosEntrenamiento['Comentario'].nunique()"
   ]
  },
  {
   "cell_type": "code",
   "execution_count": 200,
   "metadata": {},
   "outputs": [
    {
     "data": {
      "text/plain": [
       "Comentario    0\n",
       "Emocion       0\n",
       "dtype: int64"
      ]
     },
     "execution_count": 200,
     "metadata": {},
     "output_type": "execute_result"
    }
   ],
   "source": [
    "datosEntrenamiento.isnull().sum()"
   ]
  },
  {
   "cell_type": "markdown",
   "metadata": {},
   "source": [
    "* Los datos no tienen valores nulos"
   ]
  },
  {
   "cell_type": "code",
   "execution_count": 201,
   "metadata": {
    "scrolled": true
   },
   "outputs": [
    {
     "data": {
      "text/html": [
       "<div>\n",
       "<style scoped>\n",
       "    .dataframe tbody tr th:only-of-type {\n",
       "        vertical-align: middle;\n",
       "    }\n",
       "\n",
       "    .dataframe tbody tr th {\n",
       "        vertical-align: top;\n",
       "    }\n",
       "\n",
       "    .dataframe thead th {\n",
       "        text-align: right;\n",
       "    }\n",
       "</style>\n",
       "<table border=\"1\" class=\"dataframe\">\n",
       "  <thead>\n",
       "    <tr style=\"text-align: right;\">\n",
       "      <th></th>\n",
       "      <th>Comentario</th>\n",
       "      <th>Emocion</th>\n",
       "    </tr>\n",
       "  </thead>\n",
       "  <tbody>\n",
       "    <tr>\n",
       "      <th>5067</th>\n",
       "      <td>i feel on the verge of tears from weariness i ...</td>\n",
       "      <td>1</td>\n",
       "    </tr>\n",
       "    <tr>\n",
       "      <th>6133</th>\n",
       "      <td>i still feel a craving for sweet food</td>\n",
       "      <td>5</td>\n",
       "    </tr>\n",
       "    <tr>\n",
       "      <th>6563</th>\n",
       "      <td>i tend to stop breathing when i m feeling stre...</td>\n",
       "      <td>3</td>\n",
       "    </tr>\n",
       "    <tr>\n",
       "      <th>7623</th>\n",
       "      <td>i was intensely conscious of how much cash i h...</td>\n",
       "      <td>2</td>\n",
       "    </tr>\n",
       "    <tr>\n",
       "      <th>7685</th>\n",
       "      <td>im still not sure why reilly feels the need to...</td>\n",
       "      <td>6</td>\n",
       "    </tr>\n",
       "    <tr>\n",
       "      <th>8246</th>\n",
       "      <td>i am not amazing or great at photography but i...</td>\n",
       "      <td>5</td>\n",
       "    </tr>\n",
       "    <tr>\n",
       "      <th>9596</th>\n",
       "      <td>ive also made it with both sugar measurements ...</td>\n",
       "      <td>1</td>\n",
       "    </tr>\n",
       "    <tr>\n",
       "      <th>9687</th>\n",
       "      <td>i had to choose the sleek and smoother feel of...</td>\n",
       "      <td>1</td>\n",
       "    </tr>\n",
       "    <tr>\n",
       "      <th>9769</th>\n",
       "      <td>i often find myself feeling assaulted by a mul...</td>\n",
       "      <td>2</td>\n",
       "    </tr>\n",
       "    <tr>\n",
       "      <th>9786</th>\n",
       "      <td>i feel im being generous with that statement</td>\n",
       "      <td>1</td>\n",
       "    </tr>\n",
       "    <tr>\n",
       "      <th>10117</th>\n",
       "      <td>i feel pretty tortured because i work a job an...</td>\n",
       "      <td>4</td>\n",
       "    </tr>\n",
       "    <tr>\n",
       "      <th>10581</th>\n",
       "      <td>i feel most passionate about</td>\n",
       "      <td>1</td>\n",
       "    </tr>\n",
       "    <tr>\n",
       "      <th>11273</th>\n",
       "      <td>i was so stubborn and that it took you getting...</td>\n",
       "      <td>1</td>\n",
       "    </tr>\n",
       "    <tr>\n",
       "      <th>11354</th>\n",
       "      <td>i write these words i feel sweet baby kicks fr...</td>\n",
       "      <td>5</td>\n",
       "    </tr>\n",
       "    <tr>\n",
       "      <th>11525</th>\n",
       "      <td>i feel a remembrance of the strange by justin ...</td>\n",
       "      <td>4</td>\n",
       "    </tr>\n",
       "    <tr>\n",
       "      <th>11823</th>\n",
       "      <td>i have chose for myself that makes me feel ama...</td>\n",
       "      <td>1</td>\n",
       "    </tr>\n",
       "    <tr>\n",
       "      <th>12441</th>\n",
       "      <td>i still feel completely accepted</td>\n",
       "      <td>5</td>\n",
       "    </tr>\n",
       "    <tr>\n",
       "      <th>12562</th>\n",
       "      <td>i feel so weird about it</td>\n",
       "      <td>6</td>\n",
       "    </tr>\n",
       "    <tr>\n",
       "      <th>12892</th>\n",
       "      <td>i cant escape the tears of sadness and just tr...</td>\n",
       "      <td>1</td>\n",
       "    </tr>\n",
       "    <tr>\n",
       "      <th>13236</th>\n",
       "      <td>i feel like a tortured artist when i talk to her</td>\n",
       "      <td>3</td>\n",
       "    </tr>\n",
       "    <tr>\n",
       "      <th>13846</th>\n",
       "      <td>i feel more adventurous willing to take risks ...</td>\n",
       "      <td>1</td>\n",
       "    </tr>\n",
       "    <tr>\n",
       "      <th>13880</th>\n",
       "      <td>i feel like i am very passionate about youtube...</td>\n",
       "      <td>5</td>\n",
       "    </tr>\n",
       "    <tr>\n",
       "      <th>14107</th>\n",
       "      <td>i feel kind of strange</td>\n",
       "      <td>6</td>\n",
       "    </tr>\n",
       "    <tr>\n",
       "      <th>14314</th>\n",
       "      <td>i could feel myself hit this strange foggy wall</td>\n",
       "      <td>6</td>\n",
       "    </tr>\n",
       "    <tr>\n",
       "      <th>14634</th>\n",
       "      <td>i feel pretty weird blogging about deodorant b...</td>\n",
       "      <td>4</td>\n",
       "    </tr>\n",
       "    <tr>\n",
       "      <th>14926</th>\n",
       "      <td>i resorted to yesterday the post peak day of i...</td>\n",
       "      <td>4</td>\n",
       "    </tr>\n",
       "    <tr>\n",
       "      <th>15315</th>\n",
       "      <td>i will feel as though i am accepted by as well...</td>\n",
       "      <td>1</td>\n",
       "    </tr>\n",
       "    <tr>\n",
       "      <th>15329</th>\n",
       "      <td>i shy away from songs that talk about how i fe...</td>\n",
       "      <td>1</td>\n",
       "    </tr>\n",
       "    <tr>\n",
       "      <th>15572</th>\n",
       "      <td>i bet taylor swift basks in the knowledge that...</td>\n",
       "      <td>3</td>\n",
       "    </tr>\n",
       "    <tr>\n",
       "      <th>15705</th>\n",
       "      <td>i began to feel accepted by gaia on her own terms</td>\n",
       "      <td>1</td>\n",
       "    </tr>\n",
       "    <tr>\n",
       "      <th>15876</th>\n",
       "      <td>i was sitting in the corner stewing in my own ...</td>\n",
       "      <td>3</td>\n",
       "    </tr>\n",
       "  </tbody>\n",
       "</table>\n",
       "</div>"
      ],
      "text/plain": [
       "                                              Comentario  Emocion\n",
       "5067   i feel on the verge of tears from weariness i ...        1\n",
       "6133               i still feel a craving for sweet food        5\n",
       "6563   i tend to stop breathing when i m feeling stre...        3\n",
       "7623   i was intensely conscious of how much cash i h...        2\n",
       "7685   im still not sure why reilly feels the need to...        6\n",
       "8246   i am not amazing or great at photography but i...        5\n",
       "9596   ive also made it with both sugar measurements ...        1\n",
       "9687   i had to choose the sleek and smoother feel of...        1\n",
       "9769   i often find myself feeling assaulted by a mul...        2\n",
       "9786        i feel im being generous with that statement        1\n",
       "10117  i feel pretty tortured because i work a job an...        4\n",
       "10581                       i feel most passionate about        1\n",
       "11273  i was so stubborn and that it took you getting...        1\n",
       "11354  i write these words i feel sweet baby kicks fr...        5\n",
       "11525  i feel a remembrance of the strange by justin ...        4\n",
       "11823  i have chose for myself that makes me feel ama...        1\n",
       "12441                   i still feel completely accepted        5\n",
       "12562                           i feel so weird about it        6\n",
       "12892  i cant escape the tears of sadness and just tr...        1\n",
       "13236   i feel like a tortured artist when i talk to her        3\n",
       "13846  i feel more adventurous willing to take risks ...        1\n",
       "13880  i feel like i am very passionate about youtube...        5\n",
       "14107                             i feel kind of strange        6\n",
       "14314    i could feel myself hit this strange foggy wall        6\n",
       "14634  i feel pretty weird blogging about deodorant b...        4\n",
       "14926  i resorted to yesterday the post peak day of i...        4\n",
       "15315  i will feel as though i am accepted by as well...        1\n",
       "15329  i shy away from songs that talk about how i fe...        1\n",
       "15572  i bet taylor swift basks in the knowledge that...        3\n",
       "15705  i began to feel accepted by gaia on her own terms        1\n",
       "15876  i was sitting in the corner stewing in my own ...        3"
      ]
     },
     "execution_count": 201,
     "metadata": {},
     "output_type": "execute_result"
    }
   ],
   "source": [
    "datosEntrenamiento[datosEntrenamiento.duplicated(['Comentario'])]"
   ]
  },
  {
   "cell_type": "code",
   "execution_count": 202,
   "metadata": {},
   "outputs": [
    {
     "data": {
      "text/html": [
       "<div>\n",
       "<style scoped>\n",
       "    .dataframe tbody tr th:only-of-type {\n",
       "        vertical-align: middle;\n",
       "    }\n",
       "\n",
       "    .dataframe tbody tr th {\n",
       "        vertical-align: top;\n",
       "    }\n",
       "\n",
       "    .dataframe thead th {\n",
       "        text-align: right;\n",
       "    }\n",
       "</style>\n",
       "<table border=\"1\" class=\"dataframe\">\n",
       "  <thead>\n",
       "    <tr style=\"text-align: right;\">\n",
       "      <th></th>\n",
       "      <th>Comentario</th>\n",
       "      <th>Emocion</th>\n",
       "    </tr>\n",
       "  </thead>\n",
       "  <tbody>\n",
       "    <tr>\n",
       "      <th>13846</th>\n",
       "      <td>i feel more adventurous willing to take risks ...</td>\n",
       "      <td>1</td>\n",
       "    </tr>\n",
       "  </tbody>\n",
       "</table>\n",
       "</div>"
      ],
      "text/plain": [
       "                                              Comentario  Emocion\n",
       "13846  i feel more adventurous willing to take risks ...        1"
      ]
     },
     "execution_count": 202,
     "metadata": {},
     "output_type": "execute_result"
    }
   ],
   "source": [
    "datosEntrenamiento[datosEntrenamiento.duplicated(['Comentario','Emocion'])]"
   ]
  },
  {
   "cell_type": "code",
   "execution_count": 203,
   "metadata": {},
   "outputs": [
    {
     "data": {
      "image/png": "[encoded data removed]",
      "text/plain": [
       "<Figure size 360x360 with 1 Axes>"
      ]
     },
     "metadata": {
      "needs_background": "light"
     },
     "output_type": "display_data"
    }
   ],
   "source": [
    "fig, ax1 = plt.subplots(figsize=(5,5))\n",
    "graph = sns.countplot(ax=ax1,x='Emocion', data=datosEntrenamiento)\n",
    "for p in graph.patches:\n",
    "    height = p.get_height()\n",
    "    graph.text(p.get_x()+p.get_width()/2., height + 0.1,height ,ha=\"center\")"
   ]
  },
  {
   "cell_type": "markdown",
   "metadata": {},
   "source": [
    "import nltk"
   ]
  },
  {
   "cell_type": "markdown",
   "metadata": {},
   "source": [
    "nltk.download()"
   ]
  },
  {
   "cell_type": "markdown",
   "metadata": {},
   "source": [
    "## Fase 2 - Preparación de los datos"
   ]
  },
  {
   "cell_type": "code",
   "execution_count": 204,
   "metadata": {},
   "outputs": [
    {
     "name": "stdout",
     "output_type": "stream",
     "text": [
      "<class 'pandas.core.frame.DataFrame'>\n",
      "Int64Index: 15969 entries, 0 to 15999\n",
      "Data columns (total 2 columns):\n",
      " #   Column      Non-Null Count  Dtype \n",
      "---  ------      --------------  ----- \n",
      " 0   Comentario  15969 non-null  object\n",
      " 1   Emocion     15969 non-null  int64 \n",
      "dtypes: int64(1), object(1)\n",
      "memory usage: 374.3+ KB\n"
     ]
    }
   ],
   "source": [
    "datosEntrenamiento.drop_duplicates(subset =\"Comentario\", keep = 'first', inplace = True) \n",
    "datosEntrenamiento.info()"
   ]
  },
  {
   "cell_type": "code",
   "execution_count": 205,
   "metadata": {},
   "outputs": [
    {
     "data": {
      "text/html": [
       "<div>\n",
       "<style scoped>\n",
       "    .dataframe tbody tr th:only-of-type {\n",
       "        vertical-align: middle;\n",
       "    }\n",
       "\n",
       "    .dataframe tbody tr th {\n",
       "        vertical-align: top;\n",
       "    }\n",
       "\n",
       "    .dataframe thead th {\n",
       "        text-align: right;\n",
       "    }\n",
       "</style>\n",
       "<table border=\"1\" class=\"dataframe\">\n",
       "  <thead>\n",
       "    <tr style=\"text-align: right;\">\n",
       "      <th></th>\n",
       "      <th>Comentario</th>\n",
       "      <th>Emocion</th>\n",
       "    </tr>\n",
       "  </thead>\n",
       "  <tbody>\n",
       "  </tbody>\n",
       "</table>\n",
       "</div>"
      ],
      "text/plain": [
       "Empty DataFrame\n",
       "Columns: [Comentario, Emocion]\n",
       "Index: []"
      ]
     },
     "execution_count": 205,
     "metadata": {},
     "output_type": "execute_result"
    }
   ],
   "source": [
    "datosEntrenamiento[datosEntrenamiento.duplicated(['Comentario'])]"
   ]
  },
  {
   "cell_type": "code",
   "execution_count": 206,
   "metadata": {},
   "outputs": [
    {
     "data": {
      "image/png": "[encoded data removed]",
      "text/plain": [
       "<Figure size 360x360 with 1 Axes>"
      ]
     },
     "metadata": {
      "needs_background": "light"
     },
     "output_type": "display_data"
    }
   ],
   "source": [
    "fig, ax1 = plt.subplots(figsize=(5,5))\n",
    "graph = sns.countplot(ax=ax1,x='Emocion', data=datosEntrenamiento)\n",
    "for p in graph.patches:\n",
    "    height = p.get_height()\n",
    "    graph.text(p.get_x()+p.get_width()/2., height + 0.1,height ,ha=\"center\")"
   ]
  },
  {
   "cell_type": "code",
   "execution_count": 207,
   "metadata": {},
   "outputs": [],
   "source": [
    "stop = stopwords.words('english')"
   ]
  },
  {
   "cell_type": "code",
   "execution_count": 208,
   "metadata": {},
   "outputs": [
    {
     "data": {
      "text/plain": [
       "['i', 'me', 'my', 'myself', 'we', 'our', 'ours', 'ourselves', 'you', \"you're\"]"
      ]
     },
     "execution_count": 208,
     "metadata": {},
     "output_type": "execute_result"
    }
   ],
   "source": [
    "stop[:10]"
   ]
  },
  {
   "cell_type": "code",
   "execution_count": 209,
   "metadata": {},
   "outputs": [
    {
     "data": {
      "text/plain": [
       "179"
      ]
     },
     "execution_count": 209,
     "metadata": {},
     "output_type": "execute_result"
    }
   ],
   "source": [
    "len(stop)"
   ]
  },
  {
   "cell_type": "code",
   "execution_count": 210,
   "metadata": {},
   "outputs": [],
   "source": [
    "stop.append('@')\n",
    "stop.append('RT')\n"
   ]
  },
  {
   "cell_type": "code",
   "execution_count": 211,
   "metadata": {},
   "outputs": [],
   "source": [
    "stop.append(':')"
   ]
  },
  {
   "cell_type": "code",
   "execution_count": 212,
   "metadata": {},
   "outputs": [],
   "source": [
    "stop.append('rt')"
   ]
  },
  {
   "cell_type": "code",
   "execution_count": 213,
   "metadata": {},
   "outputs": [],
   "source": [
    "def clean_And_Token(text):\n",
    "    text = \"\".join([c for c in text  if c not in string.punctuation])\n",
    "    tokens = re.split('\\W+',text)\n",
    "    text = [word for word in tokens if word not in stop]\n",
    "    return text"
   ]
  },
  {
   "cell_type": "markdown",
   "metadata": {},
   "source": [
    "Metodo les quita los signos de puntuacion, les quita los stop words, y lo tokeniza dejandolos en lower case"
   ]
  },
  {
   "cell_type": "code",
   "execution_count": 214,
   "metadata": {},
   "outputs": [
    {
     "data": {
      "text/html": [
       "<div>\n",
       "<style scoped>\n",
       "    .dataframe tbody tr th:only-of-type {\n",
       "        vertical-align: middle;\n",
       "    }\n",
       "\n",
       "    .dataframe tbody tr th {\n",
       "        vertical-align: top;\n",
       "    }\n",
       "\n",
       "    .dataframe thead th {\n",
       "        text-align: right;\n",
       "    }\n",
       "</style>\n",
       "<table border=\"1\" class=\"dataframe\">\n",
       "  <thead>\n",
       "    <tr style=\"text-align: right;\">\n",
       "      <th></th>\n",
       "      <th>Comentario</th>\n",
       "      <th>Emocion</th>\n",
       "      <th>unigramas_limpio</th>\n",
       "    </tr>\n",
       "  </thead>\n",
       "  <tbody>\n",
       "    <tr>\n",
       "      <th>0</th>\n",
       "      <td>i didnt feel humiliated</td>\n",
       "      <td>2</td>\n",
       "      <td>[didnt, feel, humiliated]</td>\n",
       "    </tr>\n",
       "    <tr>\n",
       "      <th>1</th>\n",
       "      <td>i can go from feeling so hopeless to so damned...</td>\n",
       "      <td>2</td>\n",
       "      <td>[go, feeling, hopeless, damned, hopeful, aroun...</td>\n",
       "    </tr>\n",
       "    <tr>\n",
       "      <th>2</th>\n",
       "      <td>im grabbing a minute to post i feel greedy wrong</td>\n",
       "      <td>3</td>\n",
       "      <td>[im, grabbing, minute, post, feel, greedy, wrong]</td>\n",
       "    </tr>\n",
       "    <tr>\n",
       "      <th>3</th>\n",
       "      <td>i am ever feeling nostalgic about the fireplac...</td>\n",
       "      <td>5</td>\n",
       "      <td>[ever, feeling, nostalgic, fireplace, know, st...</td>\n",
       "    </tr>\n",
       "    <tr>\n",
       "      <th>4</th>\n",
       "      <td>i am feeling grouchy</td>\n",
       "      <td>3</td>\n",
       "      <td>[feeling, grouchy]</td>\n",
       "    </tr>\n",
       "    <tr>\n",
       "      <th>5</th>\n",
       "      <td>ive been feeling a little burdened lately wasn...</td>\n",
       "      <td>2</td>\n",
       "      <td>[ive, feeling, little, burdened, lately, wasnt...</td>\n",
       "    </tr>\n",
       "    <tr>\n",
       "      <th>6</th>\n",
       "      <td>ive been taking or milligrams or times recomme...</td>\n",
       "      <td>6</td>\n",
       "      <td>[ive, taking, milligrams, times, recommended, ...</td>\n",
       "    </tr>\n",
       "    <tr>\n",
       "      <th>7</th>\n",
       "      <td>i feel as confused about life as a teenager or...</td>\n",
       "      <td>4</td>\n",
       "      <td>[feel, confused, life, teenager, jaded, year, ...</td>\n",
       "    </tr>\n",
       "    <tr>\n",
       "      <th>8</th>\n",
       "      <td>i have been with petronas for years i feel tha...</td>\n",
       "      <td>1</td>\n",
       "      <td>[petronas, years, feel, petronas, performed, w...</td>\n",
       "    </tr>\n",
       "    <tr>\n",
       "      <th>9</th>\n",
       "      <td>i feel romantic too</td>\n",
       "      <td>5</td>\n",
       "      <td>[feel, romantic]</td>\n",
       "    </tr>\n",
       "  </tbody>\n",
       "</table>\n",
       "</div>"
      ],
      "text/plain": [
       "                                          Comentario  Emocion                                   unigramas_limpio\n",
       "0                            i didnt feel humiliated        2                          [didnt, feel, humiliated]\n",
       "1  i can go from feeling so hopeless to so damned...        2  [go, feeling, hopeless, damned, hopeful, aroun...\n",
       "2   im grabbing a minute to post i feel greedy wrong        3  [im, grabbing, minute, post, feel, greedy, wrong]\n",
       "3  i am ever feeling nostalgic about the fireplac...        5  [ever, feeling, nostalgic, fireplace, know, st...\n",
       "4                               i am feeling grouchy        3                                 [feeling, grouchy]\n",
       "5  ive been feeling a little burdened lately wasn...        2  [ive, feeling, little, burdened, lately, wasnt...\n",
       "6  ive been taking or milligrams or times recomme...        6  [ive, taking, milligrams, times, recommended, ...\n",
       "7  i feel as confused about life as a teenager or...        4  [feel, confused, life, teenager, jaded, year, ...\n",
       "8  i have been with petronas for years i feel tha...        1  [petronas, years, feel, petronas, performed, w...\n",
       "9                                i feel romantic too        5                                   [feel, romantic]"
      ]
     },
     "execution_count": 214,
     "metadata": {},
     "output_type": "execute_result"
    }
   ],
   "source": [
    "datosEntrenamiento['unigramas_limpio'] = datosEntrenamiento['Comentario'].apply(lambda x: clean_And_Token(x.lower()))\n",
    "datosEntrenamiento.head(10)"
   ]
  },
  {
   "cell_type": "code",
   "execution_count": 215,
   "metadata": {},
   "outputs": [],
   "source": [
    "ps = PorterStemmer()"
   ]
  },
  {
   "cell_type": "code",
   "execution_count": 216,
   "metadata": {},
   "outputs": [],
   "source": [
    "def stemming(texto_token):\n",
    "    texto = [ps.stem(word) for word in texto_token]\n",
    "    return texto\n",
    "\n",
    "    "
   ]
  },
  {
   "cell_type": "code",
   "execution_count": 217,
   "metadata": {
    "scrolled": true
   },
   "outputs": [
    {
     "data": {
      "text/html": [
       "<div>\n",
       "<style scoped>\n",
       "    .dataframe tbody tr th:only-of-type {\n",
       "        vertical-align: middle;\n",
       "    }\n",
       "\n",
       "    .dataframe tbody tr th {\n",
       "        vertical-align: top;\n",
       "    }\n",
       "\n",
       "    .dataframe thead th {\n",
       "        text-align: right;\n",
       "    }\n",
       "</style>\n",
       "<table border=\"1\" class=\"dataframe\">\n",
       "  <thead>\n",
       "    <tr style=\"text-align: right;\">\n",
       "      <th></th>\n",
       "      <th>Comentario</th>\n",
       "      <th>Emocion</th>\n",
       "      <th>unigramas_limpio</th>\n",
       "      <th>unigrama_stemmed</th>\n",
       "    </tr>\n",
       "  </thead>\n",
       "  <tbody>\n",
       "    <tr>\n",
       "      <th>0</th>\n",
       "      <td>i didnt feel humiliated</td>\n",
       "      <td>2</td>\n",
       "      <td>[didnt, feel, humiliated]</td>\n",
       "      <td>[didnt, feel, humili]</td>\n",
       "    </tr>\n",
       "    <tr>\n",
       "      <th>1</th>\n",
       "      <td>i can go from feeling so hopeless to so damned...</td>\n",
       "      <td>2</td>\n",
       "      <td>[go, feeling, hopeless, damned, hopeful, aroun...</td>\n",
       "      <td>[go, feel, hopeless, damn, hope, around, someo...</td>\n",
       "    </tr>\n",
       "    <tr>\n",
       "      <th>2</th>\n",
       "      <td>im grabbing a minute to post i feel greedy wrong</td>\n",
       "      <td>3</td>\n",
       "      <td>[im, grabbing, minute, post, feel, greedy, wrong]</td>\n",
       "      <td>[im, grab, minut, post, feel, greedi, wrong]</td>\n",
       "    </tr>\n",
       "    <tr>\n",
       "      <th>3</th>\n",
       "      <td>i am ever feeling nostalgic about the fireplac...</td>\n",
       "      <td>5</td>\n",
       "      <td>[ever, feeling, nostalgic, fireplace, know, st...</td>\n",
       "      <td>[ever, feel, nostalg, fireplac, know, still, p...</td>\n",
       "    </tr>\n",
       "    <tr>\n",
       "      <th>4</th>\n",
       "      <td>i am feeling grouchy</td>\n",
       "      <td>3</td>\n",
       "      <td>[feeling, grouchy]</td>\n",
       "      <td>[feel, grouchi]</td>\n",
       "    </tr>\n",
       "    <tr>\n",
       "      <th>5</th>\n",
       "      <td>ive been feeling a little burdened lately wasn...</td>\n",
       "      <td>2</td>\n",
       "      <td>[ive, feeling, little, burdened, lately, wasnt...</td>\n",
       "      <td>[ive, feel, littl, burden, late, wasnt, sure]</td>\n",
       "    </tr>\n",
       "    <tr>\n",
       "      <th>6</th>\n",
       "      <td>ive been taking or milligrams or times recomme...</td>\n",
       "      <td>6</td>\n",
       "      <td>[ive, taking, milligrams, times, recommended, ...</td>\n",
       "      <td>[ive, take, milligram, time, recommend, amount...</td>\n",
       "    </tr>\n",
       "    <tr>\n",
       "      <th>7</th>\n",
       "      <td>i feel as confused about life as a teenager or...</td>\n",
       "      <td>4</td>\n",
       "      <td>[feel, confused, life, teenager, jaded, year, ...</td>\n",
       "      <td>[feel, confus, life, teenag, jade, year, old, ...</td>\n",
       "    </tr>\n",
       "    <tr>\n",
       "      <th>8</th>\n",
       "      <td>i have been with petronas for years i feel tha...</td>\n",
       "      <td>1</td>\n",
       "      <td>[petronas, years, feel, petronas, performed, w...</td>\n",
       "      <td>[petrona, year, feel, petrona, perform, well, ...</td>\n",
       "    </tr>\n",
       "    <tr>\n",
       "      <th>9</th>\n",
       "      <td>i feel romantic too</td>\n",
       "      <td>5</td>\n",
       "      <td>[feel, romantic]</td>\n",
       "      <td>[feel, romant]</td>\n",
       "    </tr>\n",
       "  </tbody>\n",
       "</table>\n",
       "</div>"
      ],
      "text/plain": [
       "                                          Comentario  Emocion                                   unigramas_limpio                                   unigrama_stemmed\n",
       "0                            i didnt feel humiliated        2                          [didnt, feel, humiliated]                              [didnt, feel, humili]\n",
       "1  i can go from feeling so hopeless to so damned...        2  [go, feeling, hopeless, damned, hopeful, aroun...  [go, feel, hopeless, damn, hope, around, someo...\n",
       "2   im grabbing a minute to post i feel greedy wrong        3  [im, grabbing, minute, post, feel, greedy, wrong]       [im, grab, minut, post, feel, greedi, wrong]\n",
       "3  i am ever feeling nostalgic about the fireplac...        5  [ever, feeling, nostalgic, fireplace, know, st...  [ever, feel, nostalg, fireplac, know, still, p...\n",
       "4                               i am feeling grouchy        3                                 [feeling, grouchy]                                    [feel, grouchi]\n",
       "5  ive been feeling a little burdened lately wasn...        2  [ive, feeling, little, burdened, lately, wasnt...      [ive, feel, littl, burden, late, wasnt, sure]\n",
       "6  ive been taking or milligrams or times recomme...        6  [ive, taking, milligrams, times, recommended, ...  [ive, take, milligram, time, recommend, amount...\n",
       "7  i feel as confused about life as a teenager or...        4  [feel, confused, life, teenager, jaded, year, ...  [feel, confus, life, teenag, jade, year, old, ...\n",
       "8  i have been with petronas for years i feel tha...        1  [petronas, years, feel, petronas, performed, w...  [petrona, year, feel, petrona, perform, well, ...\n",
       "9                                i feel romantic too        5                                   [feel, romantic]                                     [feel, romant]"
      ]
     },
     "execution_count": 217,
     "metadata": {},
     "output_type": "execute_result"
    }
   ],
   "source": [
    "datosEntrenamiento['unigrama_stemmed'] = datosEntrenamiento['unigramas_limpio'].apply(lambda x: stemming(x))\n",
    "datosEntrenamiento.head(10)"
   ]
  },
  {
   "cell_type": "code",
   "execution_count": 218,
   "metadata": {},
   "outputs": [],
   "source": [
    "def allWords(texto_token):\n",
    "    allwords = []\n",
    "    for word in texto_token:\n",
    "        allwords.append(word)\n",
    "    return allwords"
   ]
  },
  {
   "cell_type": "code",
   "execution_count": 219,
   "metadata": {},
   "outputs": [],
   "source": [
    "allwords = []\n",
    "allwords = datosEntrenamiento['unigrama_stemmed'].apply(lambda x: allWords(x))"
   ]
  },
  {
   "cell_type": "code",
   "execution_count": 220,
   "metadata": {
    "scrolled": true
   },
   "outputs": [
    {
     "data": {
      "text/plain": [
       "0                                    [didnt, feel, humili]\n",
       "1        [go, feel, hopeless, damn, hope, around, someo...\n",
       "2             [im, grab, minut, post, feel, greedi, wrong]\n",
       "3        [ever, feel, nostalg, fireplac, know, still, p...\n",
       "4                                          [feel, grouchi]\n",
       "                               ...                        \n",
       "15995    [brief, time, beanbag, said, anna, feel, like,...\n",
       "15996    [turn, feel, pathet, still, wait, tabl, sub, t...\n",
       "15997                         [feel, strong, good, overal]\n",
       "15998                [feel, like, rude, comment, im, glad]\n",
       "15999                   [know, lot, feel, stupid, portray]\n",
       "Name: unigrama_stemmed, Length: 15969, dtype: object"
      ]
     },
     "execution_count": 220,
     "metadata": {},
     "output_type": "execute_result"
    }
   ],
   "source": [
    "allwords"
   ]
  },
  {
   "cell_type": "code",
   "execution_count": 221,
   "metadata": {},
   "outputs": [],
   "source": [
    "todas = []\n",
    "for i in allwords:\n",
    "    for j in i:\n",
    "        todas.append(j)\n",
    "        "
   ]
  },
  {
   "cell_type": "code",
   "execution_count": 222,
   "metadata": {},
   "outputs": [
    {
     "data": {
      "text/plain": [
       "149389"
      ]
     },
     "execution_count": 222,
     "metadata": {},
     "output_type": "execute_result"
    }
   ],
   "source": [
    "len(todas)"
   ]
  },
  {
   "cell_type": "code",
   "execution_count": 223,
   "metadata": {
    "scrolled": true
   },
   "outputs": [],
   "source": [
    "allwords = nltk.FreqDist(todas)"
   ]
  },
  {
   "cell_type": "code",
   "execution_count": 224,
   "metadata": {},
   "outputs": [
    {
     "data": {
      "text/plain": [
       "10376"
      ]
     },
     "execution_count": 224,
     "metadata": {},
     "output_type": "execute_result"
    }
   ],
   "source": [
    "len(allwords)"
   ]
  },
  {
   "cell_type": "code",
   "execution_count": 225,
   "metadata": {},
   "outputs": [],
   "source": [
    "sorted_fdist1 = sorted(allwords , key = allwords.__getitem__, reverse = True)\n",
    "word_features = sorted_fdist1[0:3000]"
   ]
  },
  {
   "cell_type": "code",
   "execution_count": 226,
   "metadata": {},
   "outputs": [
    {
     "data": {
      "text/plain": [
       "'feel'"
      ]
     },
     "execution_count": 226,
     "metadata": {},
     "output_type": "execute_result"
    }
   ],
   "source": [
    "word_features[0]"
   ]
  },
  {
   "cell_type": "code",
   "execution_count": 227,
   "metadata": {},
   "outputs": [
    {
     "data": {
      "text/plain": [
       "3000"
      ]
     },
     "execution_count": 227,
     "metadata": {},
     "output_type": "execute_result"
    }
   ],
   "source": [
    "len(word_features)"
   ]
  },
  {
   "cell_type": "code",
   "execution_count": 228,
   "metadata": {},
   "outputs": [],
   "source": [
    "def find_features(tweet):\n",
    "    words = set(tweet)\n",
    "    features = {}\n",
    "    for w in word_features:\n",
    "        features[w] = (w in words)\n",
    "    return features\n",
    "    "
   ]
  },
  {
   "cell_type": "code",
   "execution_count": 229,
   "metadata": {},
   "outputs": [],
   "source": [
    "data = datosEntrenamiento"
   ]
  },
  {
   "cell_type": "code",
   "execution_count": 230,
   "metadata": {},
   "outputs": [
    {
     "data": {
      "text/html": [
       "<div>\n",
       "<style scoped>\n",
       "    .dataframe tbody tr th:only-of-type {\n",
       "        vertical-align: middle;\n",
       "    }\n",
       "\n",
       "    .dataframe tbody tr th {\n",
       "        vertical-align: top;\n",
       "    }\n",
       "\n",
       "    .dataframe thead th {\n",
       "        text-align: right;\n",
       "    }\n",
       "</style>\n",
       "<table border=\"1\" class=\"dataframe\">\n",
       "  <thead>\n",
       "    <tr style=\"text-align: right;\">\n",
       "      <th></th>\n",
       "      <th>Comentario</th>\n",
       "      <th>Emocion</th>\n",
       "      <th>unigramas_limpio</th>\n",
       "      <th>unigrama_stemmed</th>\n",
       "    </tr>\n",
       "  </thead>\n",
       "  <tbody>\n",
       "    <tr>\n",
       "      <th>0</th>\n",
       "      <td>i didnt feel humiliated</td>\n",
       "      <td>2</td>\n",
       "      <td>[didnt, feel, humiliated]</td>\n",
       "      <td>[didnt, feel, humili]</td>\n",
       "    </tr>\n",
       "    <tr>\n",
       "      <th>1</th>\n",
       "      <td>i can go from feeling so hopeless to so damned...</td>\n",
       "      <td>2</td>\n",
       "      <td>[go, feeling, hopeless, damned, hopeful, aroun...</td>\n",
       "      <td>[go, feel, hopeless, damn, hope, around, someo...</td>\n",
       "    </tr>\n",
       "    <tr>\n",
       "      <th>2</th>\n",
       "      <td>im grabbing a minute to post i feel greedy wrong</td>\n",
       "      <td>3</td>\n",
       "      <td>[im, grabbing, minute, post, feel, greedy, wrong]</td>\n",
       "      <td>[im, grab, minut, post, feel, greedi, wrong]</td>\n",
       "    </tr>\n",
       "    <tr>\n",
       "      <th>3</th>\n",
       "      <td>i am ever feeling nostalgic about the fireplac...</td>\n",
       "      <td>5</td>\n",
       "      <td>[ever, feeling, nostalgic, fireplace, know, st...</td>\n",
       "      <td>[ever, feel, nostalg, fireplac, know, still, p...</td>\n",
       "    </tr>\n",
       "    <tr>\n",
       "      <th>4</th>\n",
       "      <td>i am feeling grouchy</td>\n",
       "      <td>3</td>\n",
       "      <td>[feeling, grouchy]</td>\n",
       "      <td>[feel, grouchi]</td>\n",
       "    </tr>\n",
       "  </tbody>\n",
       "</table>\n",
       "</div>"
      ],
      "text/plain": [
       "                                          Comentario  Emocion                                   unigramas_limpio                                   unigrama_stemmed\n",
       "0                            i didnt feel humiliated        2                          [didnt, feel, humiliated]                              [didnt, feel, humili]\n",
       "1  i can go from feeling so hopeless to so damned...        2  [go, feeling, hopeless, damned, hopeful, aroun...  [go, feel, hopeless, damn, hope, around, someo...\n",
       "2   im grabbing a minute to post i feel greedy wrong        3  [im, grabbing, minute, post, feel, greedy, wrong]       [im, grab, minut, post, feel, greedi, wrong]\n",
       "3  i am ever feeling nostalgic about the fireplac...        5  [ever, feeling, nostalgic, fireplace, know, st...  [ever, feel, nostalg, fireplac, know, still, p...\n",
       "4                               i am feeling grouchy        3                                 [feeling, grouchy]                                    [feel, grouchi]"
      ]
     },
     "execution_count": 230,
     "metadata": {},
     "output_type": "execute_result"
    }
   ],
   "source": [
    "data.head(5)"
   ]
  },
  {
   "cell_type": "code",
   "execution_count": 231,
   "metadata": {},
   "outputs": [
    {
     "data": {
      "text/html": [
       "<div>\n",
       "<style scoped>\n",
       "    .dataframe tbody tr th:only-of-type {\n",
       "        vertical-align: middle;\n",
       "    }\n",
       "\n",
       "    .dataframe tbody tr th {\n",
       "        vertical-align: top;\n",
       "    }\n",
       "\n",
       "    .dataframe thead th {\n",
       "        text-align: right;\n",
       "    }\n",
       "</style>\n",
       "<table border=\"1\" class=\"dataframe\">\n",
       "  <thead>\n",
       "    <tr style=\"text-align: right;\">\n",
       "      <th></th>\n",
       "      <th>Emocion</th>\n",
       "      <th>unigrama_stemmed</th>\n",
       "    </tr>\n",
       "  </thead>\n",
       "  <tbody>\n",
       "    <tr>\n",
       "      <th>0</th>\n",
       "      <td>2</td>\n",
       "      <td>[didnt, feel, humili]</td>\n",
       "    </tr>\n",
       "    <tr>\n",
       "      <th>1</th>\n",
       "      <td>2</td>\n",
       "      <td>[go, feel, hopeless, damn, hope, around, someo...</td>\n",
       "    </tr>\n",
       "    <tr>\n",
       "      <th>2</th>\n",
       "      <td>3</td>\n",
       "      <td>[im, grab, minut, post, feel, greedi, wrong]</td>\n",
       "    </tr>\n",
       "    <tr>\n",
       "      <th>3</th>\n",
       "      <td>5</td>\n",
       "      <td>[ever, feel, nostalg, fireplac, know, still, p...</td>\n",
       "    </tr>\n",
       "    <tr>\n",
       "      <th>4</th>\n",
       "      <td>3</td>\n",
       "      <td>[feel, grouchi]</td>\n",
       "    </tr>\n",
       "  </tbody>\n",
       "</table>\n",
       "</div>"
      ],
      "text/plain": [
       "   Emocion                                   unigrama_stemmed\n",
       "0        2                              [didnt, feel, humili]\n",
       "1        2  [go, feel, hopeless, damn, hope, around, someo...\n",
       "2        3       [im, grab, minut, post, feel, greedi, wrong]\n",
       "3        5  [ever, feel, nostalg, fireplac, know, still, p...\n",
       "4        3                                    [feel, grouchi]"
      ]
     },
     "execution_count": 231,
     "metadata": {},
     "output_type": "execute_result"
    }
   ],
   "source": [
    "del data['Comentario']\n",
    "del data['unigramas_limpio']\n",
    "data.head(5)"
   ]
  },
  {
   "cell_type": "code",
   "execution_count": 232,
   "metadata": {},
   "outputs": [
    {
     "data": {
      "text/plain": [
       "(2, list(['didnt', 'feel', 'humili']))"
      ]
     },
     "execution_count": 232,
     "metadata": {},
     "output_type": "execute_result"
    }
   ],
   "source": [
    "f = data.to_records(index=False)\n",
    "f[0]"
   ]
  },
  {
   "cell_type": "code",
   "execution_count": 233,
   "metadata": {},
   "outputs": [],
   "source": [
    "devTestF = f[5000:6000]"
   ]
  },
  {
   "cell_type": "code",
   "execution_count": 234,
   "metadata": {},
   "outputs": [],
   "source": [
    "testF =f[6676:]"
   ]
  },
  {
   "cell_type": "code",
   "execution_count": 235,
   "metadata": {},
   "outputs": [],
   "source": [
    "featureSet = [(find_features(rev), emocion) for (emocion,rev) in f]"
   ]
  },
  {
   "cell_type": "code",
   "execution_count": 236,
   "metadata": {},
   "outputs": [
    {
     "data": {
      "text/plain": [
       "({'feel': True,\n",
       "  'like': False,\n",
       "  'im': False,\n",
       "  'get': False,\n",
       "  'time': False,\n",
       "  'realli': False,\n",
       "  'know': False,\n",
       "  'make': False,\n",
       "  'go': False,\n",
       "  'want': False,\n",
       "  'love': False,\n",
       "  'littl': False,\n",
       "  'think': False,\n",
       "  'day': False,\n",
       "  'thing': False,\n",
       "  'peopl': False,\n",
       "  'one': False,\n",
       "  'would': False,\n",
       "  'even': False,\n",
       "  'still': False,\n",
       "  'ive': False,\n",
       "  'life': False,\n",
       "  'way': False,\n",
       "  'need': False,\n",
       "  'bit': False,\n",
       "  'someth': False,\n",
       "  'much': False,\n",
       "  'dont': False,\n",
       "  'work': False,\n",
       "  'could': False,\n",
       "  'say': False,\n",
       "  'start': False,\n",
       "  'look': False,\n",
       "  'see': False,\n",
       "  'back': False,\n",
       "  'tri': False,\n",
       "  'good': False,\n",
       "  'pretti': False,\n",
       "  'right': False,\n",
       "  'alway': False,\n",
       "  'come': False,\n",
       "  'help': False,\n",
       "  'friend': False,\n",
       "  'also': False,\n",
       "  'year': False,\n",
       "  'today': False,\n",
       "  'use': False,\n",
       "  'take': False,\n",
       "  'around': False,\n",
       "  'person': False,\n",
       "  'cant': False,\n",
       "  'made': False,\n",
       "  'hate': False,\n",
       "  'well': False,\n",
       "  'happi': False,\n",
       "  'though': False,\n",
       "  'didnt': True,\n",
       "  'got': False,\n",
       "  'write': False,\n",
       "  'live': False,\n",
       "  'felt': False,\n",
       "  'lot': False,\n",
       "  'never': False,\n",
       "  'thought': False,\n",
       "  'hope': False,\n",
       "  'someon': False,\n",
       "  'find': False,\n",
       "  'everi': False,\n",
       "  'quit': False,\n",
       "  'read': False,\n",
       "  'less': False,\n",
       "  'sure': False,\n",
       "  'enough': False,\n",
       "  'week': False,\n",
       "  'give': False,\n",
       "  'mani': False,\n",
       "  'kind': False,\n",
       "  'home': False,\n",
       "  'away': False,\n",
       "  'support': False,\n",
       "  'long': False,\n",
       "  'ever': False,\n",
       "  'actual': False,\n",
       "  'anyth': False,\n",
       "  'better': False,\n",
       "  'keep': False,\n",
       "  'talk': False,\n",
       "  'let': False,\n",
       "  'left': False,\n",
       "  'everyth': False,\n",
       "  'without': False,\n",
       "  'rememb': False,\n",
       "  'last': False,\n",
       "  'care': False,\n",
       "  'tell': False,\n",
       "  'world': False,\n",
       "  'wonder': False,\n",
       "  'sometim': False,\n",
       "  'new': False,\n",
       "  'end': False,\n",
       "  'http': False,\n",
       "  'amaz': False,\n",
       "  'famili': False,\n",
       "  'gener': False,\n",
       "  'post': False,\n",
       "  'accept': False,\n",
       "  'blog': False,\n",
       "  'put': False,\n",
       "  'first': False,\n",
       "  'moment': False,\n",
       "  'miss': False,\n",
       "  'stress': False,\n",
       "  'happen': False,\n",
       "  'abl': False,\n",
       "  'emot': False,\n",
       "  'said': False,\n",
       "  'ill': False,\n",
       "  'alon': False,\n",
       "  'leav': False,\n",
       "  'rather': False,\n",
       "  'place': False,\n",
       "  'call': False,\n",
       "  'mean': False,\n",
       "  'ask': False,\n",
       "  'alreadi': False,\n",
       "  'part': False,\n",
       "  'heart': False,\n",
       "  'stop': False,\n",
       "  'seem': False,\n",
       "  'bad': False,\n",
       "  'href': False,\n",
       "  'run': False,\n",
       "  'sad': False,\n",
       "  'pain': False,\n",
       "  'us': False,\n",
       "  'hurt': False,\n",
       "  'walk': False,\n",
       "  'complet': False,\n",
       "  'book': False,\n",
       "  'other': False,\n",
       "  'yet': False,\n",
       "  'thank': False,\n",
       "  'two': False,\n",
       "  'god': False,\n",
       "  'may': False,\n",
       "  'strang': False,\n",
       "  'noth': False,\n",
       "  'overwhelm': False,\n",
       "  'excit': False,\n",
       "  'sinc': False,\n",
       "  'night': False,\n",
       "  'point': False,\n",
       "  'irrit': False,\n",
       "  'morn': False,\n",
       "  'understand': False,\n",
       "  'bless': False,\n",
       "  'girl': False,\n",
       "  'often': False,\n",
       "  'watch': False,\n",
       "  'school': False,\n",
       "  'toward': False,\n",
       "  'share': False,\n",
       "  'anyon': False,\n",
       "  'might': False,\n",
       "  'guess': False,\n",
       "  'sweet': False,\n",
       "  'late': False,\n",
       "  'word': False,\n",
       "  'everyon': False,\n",
       "  'reason': False,\n",
       "  'sleep': False,\n",
       "  'passion': False,\n",
       "  'weird': False,\n",
       "  'enjoy': False,\n",
       "  'hard': False,\n",
       "  'wrong': False,\n",
       "  'becom': False,\n",
       "  'id': False,\n",
       "  'learn': False,\n",
       "  'whole': False,\n",
       "  'move': False,\n",
       "  'face': False,\n",
       "  'old': False,\n",
       "  'anoth': False,\n",
       "  'month': False,\n",
       "  'bodi': False,\n",
       "  'sit': False,\n",
       "  'angri': False,\n",
       "  'import': False,\n",
       "  'chang': False,\n",
       "  'hour': False,\n",
       "  'went': False,\n",
       "  'fuck': False,\n",
       "  'lost': False,\n",
       "  'comfort': False,\n",
       "  'believ': False,\n",
       "  'done': False,\n",
       "  'show': False,\n",
       "  'content': False,\n",
       "  'stupid': False,\n",
       "  'play': False,\n",
       "  'total': False,\n",
       "  'tire': False,\n",
       "  'kid': False,\n",
       "  'mayb': False,\n",
       "  'almost': False,\n",
       "  'depress': False,\n",
       "  'eat': False,\n",
       "  'self': False,\n",
       "  'realiz': False,\n",
       "  'least': False,\n",
       "  'especi': False,\n",
       "  'posit': False,\n",
       "  'helpless': False,\n",
       "  'mind': False,\n",
       "  'hand': False,\n",
       "  'head': False,\n",
       "  'free': False,\n",
       "  'must': False,\n",
       "  'wish': False,\n",
       "  'past': False,\n",
       "  'sens': False,\n",
       "  'joy': False,\n",
       "  'next': False,\n",
       "  'turn': False,\n",
       "  'job': False,\n",
       "  'great': False,\n",
       "  'decid': False,\n",
       "  'class': False,\n",
       "  'fear': False,\n",
       "  'afraid': False,\n",
       "  'guy': False,\n",
       "  'best': False,\n",
       "  'fact': False,\n",
       "  'stori': False,\n",
       "  'trust': False,\n",
       "  'hear': False,\n",
       "  'els': False,\n",
       "  'frustrat': False,\n",
       "  'cold': False,\n",
       "  'usual': False,\n",
       "  'agit': False,\n",
       "  'cri': False,\n",
       "  'confid': False,\n",
       "  'that': False,\n",
       "  'sort': False,\n",
       "  'experi': False,\n",
       "  'insid': False,\n",
       "  'real': False,\n",
       "  'wear': False,\n",
       "  'eye': False,\n",
       "  'final': False,\n",
       "  'found': False,\n",
       "  'listen': False,\n",
       "  'strong': False,\n",
       "  'wasnt': False,\n",
       "  'differ': False,\n",
       "  'horribl': False,\n",
       "  'stay': False,\n",
       "  'anxiou': False,\n",
       "  'nervou': False,\n",
       "  'low': False,\n",
       "  'glad': False,\n",
       "  'special': False,\n",
       "  'situat': False,\n",
       "  'ok': False,\n",
       "  'sorri': False,\n",
       "  'probabl': False,\n",
       "  'wait': False,\n",
       "  'pressur': False,\n",
       "  'success': False,\n",
       "  'bother': False,\n",
       "  'terribl': False,\n",
       "  'safe': False,\n",
       "  'perfect': False,\n",
       "  'told': False,\n",
       "  'annoy': False,\n",
       "  'respect': False,\n",
       "  'caus': False,\n",
       "  'inspir': False,\n",
       "  'slightli': False,\n",
       "  'far': False,\n",
       "  'continu': False,\n",
       "  'product': False,\n",
       "  'mother': False,\n",
       "  'close': False,\n",
       "  'extrem': False,\n",
       "  'idea': False,\n",
       "  'hous': False,\n",
       "  'admit': False,\n",
       "  'cool': False,\n",
       "  'possibl': False,\n",
       "  'lone': False,\n",
       "  'pleas': False,\n",
       "  'came': False,\n",
       "  'begin': False,\n",
       "  'ach': False,\n",
       "  'scare': False,\n",
       "  'expect': False,\n",
       "  'child': False,\n",
       "  'particularli': False,\n",
       "  'beauti': False,\n",
       "  'spend': False,\n",
       "  'exhaust': False,\n",
       "  'babi': False,\n",
       "  'man': False,\n",
       "  'disappoint': False,\n",
       "  'appreci': False,\n",
       "  'peac': False,\n",
       "  'guilti': False,\n",
       "  'suppos': False,\n",
       "  'fine': False,\n",
       "  'open': False,\n",
       "  'creativ': False,\n",
       "  'matter': False,\n",
       "  'bed': False,\n",
       "  'big': False,\n",
       "  'children': False,\n",
       "  'surpris': False,\n",
       "  'stuff': False,\n",
       "  'amp': False,\n",
       "  'song': False,\n",
       "  'room': False,\n",
       "  'worri': False,\n",
       "  'control': False,\n",
       "  'ignor': False,\n",
       "  'belov': False,\n",
       "  'burden': False,\n",
       "  'valu': False,\n",
       "  'plan': False,\n",
       "  'finish': False,\n",
       "  'miser': False,\n",
       "  'terrifi': False,\n",
       "  'truli': False,\n",
       "  'confus': False,\n",
       "  'hot': False,\n",
       "  'mom': False,\n",
       "  'tortur': False,\n",
       "  'relationship': False,\n",
       "  'rest': False,\n",
       "  'impress': False,\n",
       "  'parent': False,\n",
       "  'relax': False,\n",
       "  'cannot': False,\n",
       "  'asham': False,\n",
       "  'awkward': False,\n",
       "  'resent': False,\n",
       "  'convinc': False,\n",
       "  'proud': False,\n",
       "  'mad': False,\n",
       "  'faith': False,\n",
       "  'futur': False,\n",
       "  'aw': False,\n",
       "  'allow': False,\n",
       "  'satisfi': False,\n",
       "  'side': False,\n",
       "  'woke': False,\n",
       "  'dream': False,\n",
       "  'selfish': False,\n",
       "  'anymor': False,\n",
       "  'havent': False,\n",
       "  'togeth': False,\n",
       "  'embarrass': False,\n",
       "  'talent': False,\n",
       "  'pass': False,\n",
       "  'lucki': False,\n",
       "  'offend': False,\n",
       "  'doesnt': False,\n",
       "  'empti': False,\n",
       "  'spent': False,\n",
       "  'unhappi': False,\n",
       "  'energi': False,\n",
       "  'unsur': False,\n",
       "  'woman': False,\n",
       "  'wont': False,\n",
       "  'calm': False,\n",
       "  'artist': False,\n",
       "  'insecur': False,\n",
       "  'regret': False,\n",
       "  'letharg': False,\n",
       "  'wake': False,\n",
       "  'super': False,\n",
       "  'hopeless': False,\n",
       "  'reject': False,\n",
       "  'fun': False,\n",
       "  'somehow': False,\n",
       "  'question': False,\n",
       "  'nice': False,\n",
       "  'instead': False,\n",
       "  'vulner': False,\n",
       "  'absolut': False,\n",
       "  'full': False,\n",
       "  'funni': False,\n",
       "  'longer': False,\n",
       "  'brave': False,\n",
       "  'popular': False,\n",
       "  'knew': False,\n",
       "  'couldnt': False,\n",
       "  'set': False,\n",
       "  'suffer': False,\n",
       "  'small': False,\n",
       "  'rush': False,\n",
       "  'meet': False,\n",
       "  'shitti': False,\n",
       "  'devast': False,\n",
       "  'rich': False,\n",
       "  'lose': False,\n",
       "  'cute': False,\n",
       "  'problem': False,\n",
       "  'somewhat': False,\n",
       "  'smile': False,\n",
       "  'struggl': False,\n",
       "  'incred': False,\n",
       "  'determin': False,\n",
       "  'music': False,\n",
       "  'punish': False,\n",
       "  'ago': False,\n",
       "  'isol': False,\n",
       "  'food': False,\n",
       "  'greedi': False,\n",
       "  'discourag': False,\n",
       "  'bring': False,\n",
       "  'shaken': False,\n",
       "  'uncomfort': False,\n",
       "  'hold': False,\n",
       "  'bore': False,\n",
       "  'uncertain': False,\n",
       "  'boy': False,\n",
       "  'minut': False,\n",
       "  'preciou': False,\n",
       "  'he': False,\n",
       "  'money': False,\n",
       "  'definit': False,\n",
       "  'danger': False,\n",
       "  'stand': False,\n",
       "  'melancholi': False,\n",
       "  'deal': False,\n",
       "  'fall': False,\n",
       "  'violent': False,\n",
       "  'hair': False,\n",
       "  'dull': False,\n",
       "  'husband': False,\n",
       "  'movi': False,\n",
       "  'insult': False,\n",
       "  'troubl': False,\n",
       "  'divin': False,\n",
       "  'doubt': False,\n",
       "  'honor': False,\n",
       "  'buy': False,\n",
       "  'sick': False,\n",
       "  'jealou': False,\n",
       "  'reluct': False,\n",
       "  'game': False,\n",
       "  'women': False,\n",
       "  'pleasant': False,\n",
       "  'coupl': False,\n",
       "  'soon': False,\n",
       "  'homesick': False,\n",
       "  'assur': False,\n",
       "  'simpli': False,\n",
       "  'normal': False,\n",
       "  'damag': False,\n",
       "  'breath': False,\n",
       "  'follow': False,\n",
       "  'pictur': False,\n",
       "  'physic': False,\n",
       "  'adventur': False,\n",
       "  'touch': False,\n",
       "  'creat': False,\n",
       "  'comment': False,\n",
       "  'tonight': False,\n",
       "  'howev': False,\n",
       "  'rude': False,\n",
       "  'mine': False,\n",
       "  'truth': False,\n",
       "  'whether': False,\n",
       "  'ugli': False,\n",
       "  'piss': False,\n",
       "  'shock': False,\n",
       "  'distract': False,\n",
       "  'cranki': False,\n",
       "  'hesit': False,\n",
       "  'your': False,\n",
       "  'weekend': False,\n",
       "  'welcom': False,\n",
       "  'paranoid': False,\n",
       "  'speak': False,\n",
       "  'useless': False,\n",
       "  'type': False,\n",
       "  'kinda': False,\n",
       "  'gorgeou': False,\n",
       "  'manag': False,\n",
       "  'apprehens': False,\n",
       "  'curiou': False,\n",
       "  'intimid': False,\n",
       "  'die': False,\n",
       "  'there': False,\n",
       "  'beaten': False,\n",
       "  'gloomi': False,\n",
       "  'numb': False,\n",
       "  'issu': False,\n",
       "  'remind': False,\n",
       "  'began': False,\n",
       "  'outsid': False,\n",
       "  'disgust': False,\n",
       "  'groggi': False,\n",
       "  'act': False,\n",
       "  'innoc': False,\n",
       "  'blank': False,\n",
       "  'sincer': False,\n",
       "  'disturb': False,\n",
       "  'valuabl': False,\n",
       "  'optimist': False,\n",
       "  'list': False,\n",
       "  'bitter': False,\n",
       "  'festiv': False,\n",
       "  'unwelcom': False,\n",
       "  'readi': False,\n",
       "  'piec': False,\n",
       "  'either': False,\n",
       "  'gone': False,\n",
       "  'certain': False,\n",
       "  'student': False,\n",
       "  'honestli': False,\n",
       "  'interest': False,\n",
       "  'threaten': False,\n",
       "  'dissatisfi': False,\n",
       "  'pathet': False,\n",
       "  'sound': False,\n",
       "  'consid': False,\n",
       "  'took': False,\n",
       "  'worthless': False,\n",
       "  'three': False,\n",
       "  'resolv': False,\n",
       "  'shi': False,\n",
       "  'weight': False,\n",
       "  'sympathet': False,\n",
       "  'break': False,\n",
       "  'crappi': False,\n",
       "  'friendli': False,\n",
       "  'upset': False,\n",
       "  'dumb': False,\n",
       "  'express': False,\n",
       "  'lack': False,\n",
       "  'heartbroken': False,\n",
       "  'dirti': False,\n",
       "  'superior': False,\n",
       "  'fake': False,\n",
       "  'high': False,\n",
       "  'she': False,\n",
       "  'name': False,\n",
       "  'dishearten': False,\n",
       "  'second': False,\n",
       "  'front': False,\n",
       "  'order': False,\n",
       "  'smart': False,\n",
       "  'defeat': False,\n",
       "  'result': False,\n",
       "  'desir': False,\n",
       "  'intellig': False,\n",
       "  'drain': False,\n",
       "  'charact': False,\n",
       "  'lousi': False,\n",
       "  'www': False,\n",
       "  'romant': False,\n",
       "  'entir': False,\n",
       "  'arm': False,\n",
       "  'vain': False,\n",
       "  'mellow': False,\n",
       "  'abus': False,\n",
       "  'delici': False,\n",
       "  'clever': False,\n",
       "  'reliev': False,\n",
       "  'broke': False,\n",
       "  'busi': False,\n",
       "  'naughti': False,\n",
       "  'commun': False,\n",
       "  'unfortun': False,\n",
       "  'lie': False,\n",
       "  'humili': True,\n",
       "  'nostalg': False,\n",
       "  'cours': False,\n",
       "  'connect': False,\n",
       "  'skin': False,\n",
       "  'state': False,\n",
       "  'fantast': False,\n",
       "  'energet': False,\n",
       "  'project': False,\n",
       "  'bitchi': False,\n",
       "  'human': False,\n",
       "  'choic': False,\n",
       "  'etc': False,\n",
       "  'fit': False,\n",
       "  'step': False,\n",
       "  'answer': False,\n",
       "  'countri': False,\n",
       "  'whatev': False,\n",
       "  'decis': False,\n",
       "  'reach': False,\n",
       "  'thrill': False,\n",
       "  'yesterday': False,\n",
       "  'half': False,\n",
       "  'treat': False,\n",
       "  'shaki': False,\n",
       "  'inadequ': False,\n",
       "  'given': False,\n",
       "  'true': False,\n",
       "  'suddenli': False,\n",
       "  'hit': False,\n",
       "  'petti': False,\n",
       "  'doom': False,\n",
       "  'grate': False,\n",
       "  'imagin': False,\n",
       "  'listless': False,\n",
       "  'gentl': False,\n",
       "  'unimport': False,\n",
       "  'mood': False,\n",
       "  'car': False,\n",
       "  'present': False,\n",
       "  'fabul': False,\n",
       "  'depriv': False,\n",
       "  'needi': False,\n",
       "  'carefre': False,\n",
       "  'whenev': False,\n",
       "  'singl': False,\n",
       "  'social': False,\n",
       "  'impati': False,\n",
       "  'rotten': False,\n",
       "  'lame': False,\n",
       "  'photo': False,\n",
       "  'summer': False,\n",
       "  'behind': False,\n",
       "  'mention': False,\n",
       "  'christma': False,\n",
       "  'opportun': False,\n",
       "  'group': False,\n",
       "  'pull': False,\n",
       "  'eager': False,\n",
       "  'isnt': False,\n",
       "  'exactli': False,\n",
       "  'deep': False,\n",
       "  'notic': False,\n",
       "  'age': False,\n",
       "  'anger': False,\n",
       "  'horni': False,\n",
       "  'rebelli': False,\n",
       "  'restless': False,\n",
       "  'pick': False,\n",
       "  'tender': False,\n",
       "  'recent': False,\n",
       "  'train': False,\n",
       "  'although': False,\n",
       "  'jade': False,\n",
       "  'young': False,\n",
       "  'worthwhil': False,\n",
       "  'loyal': False,\n",
       "  'respons': False,\n",
       "  'convers': False,\n",
       "  'reader': False,\n",
       "  'challeng': False,\n",
       "  'idiot': False,\n",
       "  'mental': False,\n",
       "  'virtuou': False,\n",
       "  'explain': False,\n",
       "  'effort': False,\n",
       "  'view': False,\n",
       "  'current': False,\n",
       "  'receiv': False,\n",
       "  'taken': False,\n",
       "  'forward': False,\n",
       "  'light': False,\n",
       "  'privileg': False,\n",
       "  'frighten': False,\n",
       "  'drink': False,\n",
       "  'men': False,\n",
       "  'ungrat': False,\n",
       "  'later': False,\n",
       "  'honour': False,\n",
       "  'invigor': False,\n",
       "  'cut': False,\n",
       "  'along': False,\n",
       "  'art': False,\n",
       "  'team': False,\n",
       "  'discont': False,\n",
       "  'foolish': False,\n",
       "  'gift': False,\n",
       "  'pay': False,\n",
       "  'saw': False,\n",
       "  'tear': False,\n",
       "  'memori': False,\n",
       "  'laugh': False,\n",
       "  'line': False,\n",
       "  'chanc': False,\n",
       "  'submiss': False,\n",
       "  'constantli': False,\n",
       "  'grumpi': False,\n",
       "  'casual': False,\n",
       "  'sat': False,\n",
       "  'offer': False,\n",
       "  'delic': False,\n",
       "  'effect': False,\n",
       "  'seen': False,\n",
       "  'smug': False,\n",
       "  'vital': False,\n",
       "  'race': False,\n",
       "  'unlov': False,\n",
       "  'holiday': False,\n",
       "  'fill': False,\n",
       "  'within': False,\n",
       "  'except': False,\n",
       "  'studi': False,\n",
       "  'phone': False,\n",
       "  'parti': False,\n",
       "  'stomach': False,\n",
       "  'oh': False,\n",
       "  'triumphant': False,\n",
       "  'event': False,\n",
       "  'drive': False,\n",
       "  'reassur': False,\n",
       "  'trip': False,\n",
       "  'activ': False,\n",
       "  'level': False,\n",
       "  'figur': False,\n",
       "  'return': False,\n",
       "  'space': False,\n",
       "  'easi': False,\n",
       "  'natur': False,\n",
       "  'fan': False,\n",
       "  'push': False,\n",
       "  'fond': False,\n",
       "  'frantic': False,\n",
       "  'terrif': False,\n",
       "  'clean': False,\n",
       "  'grow': False,\n",
       "  'color': False,\n",
       "  'damn': False,\n",
       "  'delight': False,\n",
       "  'shit': False,\n",
       "  'son': False,\n",
       "  'area': False,\n",
       "  'kick': False,\n",
       "  'upon': False,\n",
       "  'style': False,\n",
       "  'add': False,\n",
       "  'date': False,\n",
       "  'stubborn': False,\n",
       "  'loss': False,\n",
       "  'ecstat': False,\n",
       "  'deepli': False,\n",
       "  'shame': False,\n",
       "  'amount': False,\n",
       "  'ye': False,\n",
       "  'goe': False,\n",
       "  'short': False,\n",
       "  'wouldnt': False,\n",
       "  'father': False,\n",
       "  'abil': False,\n",
       "  'focu': False,\n",
       "  'healthi': False,\n",
       "  'kept': False,\n",
       "  'shop': False,\n",
       "  'worth': False,\n",
       "  'met': False,\n",
       "  'ground': False,\n",
       "  'amus': False,\n",
       "  'sister': False,\n",
       "  'deserv': False,\n",
       "  'throw': False,\n",
       "  'despit': False,\n",
       "  'serious': False,\n",
       "  'src': False,\n",
       "  'air': False,\n",
       "  'due': False,\n",
       "  'red': False,\n",
       "  'sentiment': False,\n",
       "  'compani': False,\n",
       "  'danc': False,\n",
       "  'utterli': False,\n",
       "  'visit': False,\n",
       "  'attent': False,\n",
       "  'accomplish': False,\n",
       "  'spirit': False,\n",
       "  'forget': False,\n",
       "  'anyway': False,\n",
       "  'describ': False,\n",
       "  'cloth': False,\n",
       "  'univers': False,\n",
       "  'skeptic': False,\n",
       "  'distress': False,\n",
       "  'strongli': False,\n",
       "  'provid': False,\n",
       "  'warm': False,\n",
       "  'victim': False,\n",
       "  'dress': False,\n",
       "  'leg': False,\n",
       "  'water': False,\n",
       "  'across': False,\n",
       "  'gain': False,\n",
       "  'voic': False,\n",
       "  'enviou': False,\n",
       "  'charm': False,\n",
       "  'tragic': False,\n",
       "  'kiss': False,\n",
       "  'brain': False,\n",
       "  'news': False,\n",
       "  'top': False,\n",
       "  'power': False,\n",
       "  'film': False,\n",
       "  'heard': False,\n",
       "  'season': False,\n",
       "  'tree': False,\n",
       "  'dad': False,\n",
       "  'sever': False,\n",
       "  'perhap': False,\n",
       "  'neglect': False,\n",
       "  'tend': False,\n",
       "  'ad': False,\n",
       "  'tomorrow': False,\n",
       "  'quickli': False,\n",
       "  'rel': False,\n",
       "  'known': False,\n",
       "  'fail': False,\n",
       "  'subject': False,\n",
       "  'remors': False,\n",
       "  'crazi': False,\n",
       "  'unpleas': False,\n",
       "  'dark': False,\n",
       "  'theyr': False,\n",
       "  'colleg': False,\n",
       "  'door': False,\n",
       "  'practic': False,\n",
       "  'design': False,\n",
       "  'gave': False,\n",
       "  'death': False,\n",
       "  'wors': False,\n",
       "  'lazi': False,\n",
       "  'daze': False,\n",
       "  'entertain': False,\n",
       "  'belong': False,\n",
       "  'pray': False,\n",
       "  'attempt': False,\n",
       "  'awar': False,\n",
       "  'goal': False,\n",
       "  'neg': False,\n",
       "  'soul': False,\n",
       "  'disillus': False,\n",
       "  'paper': False,\n",
       "  'motiv': False,\n",
       "  'img': False,\n",
       "  'case': False,\n",
       "  'save': False,\n",
       "  'boyfriend': False,\n",
       "  'fight': False,\n",
       "  'messi': False,\n",
       "  'four': False,\n",
       "  'suspici': False,\n",
       "  'number': False,\n",
       "  'concern': False,\n",
       "  'perform': False,\n",
       "  'everyday': False,\n",
       "  'u': False,\n",
       "  'blame': False,\n",
       "  'achiev': False,\n",
       "  'hostil': False,\n",
       "  'process': False,\n",
       "  'build': False,\n",
       "  'teacher': False,\n",
       "  'fairli': False,\n",
       "  'weather': False,\n",
       "  'discuss': False,\n",
       "  'hide': False,\n",
       "  'experienc': False,\n",
       "  'realis': False,\n",
       "  'develop': False,\n",
       "  'earli': False,\n",
       "  'church': False,\n",
       "  'mostli': False,\n",
       "  'celebr': False,\n",
       "  'wall': False,\n",
       "  'glamor': False,\n",
       "  'keen': False,\n",
       "  'freak': False,\n",
       "  'titl': False,\n",
       "  'gotten': False,\n",
       "  'lesson': False,\n",
       "  'knowledg': False,\n",
       "  'lead': False,\n",
       "  'avoid': False,\n",
       "  'comput': False,\n",
       "  'strength': False,\n",
       "  'wanna': False,\n",
       "  'relat': False,\n",
       "  'huge': False,\n",
       "  'anxieti': False,\n",
       "  'member': False,\n",
       "  'black': False,\n",
       "  'offic': False,\n",
       "  'hell': False,\n",
       "  'presenc': False,\n",
       "  'equal': False,\n",
       "  'compar': False,\n",
       "  'action': False,\n",
       "  'progress': False,\n",
       "  'health': False,\n",
       "  'drop': False,\n",
       "  'guilt': False,\n",
       "  'finger': False,\n",
       "  'daughter': False,\n",
       "  'sun': False,\n",
       "  'imag': False,\n",
       "  'fulli': False,\n",
       "  'indecis': False,\n",
       "  'beat': False,\n",
       "  'complac': False,\n",
       "  'educ': False,\n",
       "  'simpl': False,\n",
       "  'ahead': False,\n",
       "  'check': False,\n",
       "  'larg': False,\n",
       "  'career': False,\n",
       "  'settl': False,\n",
       "  'kill': False,\n",
       "  'admir': False,\n",
       "  'cover': False,\n",
       "  'search': False,\n",
       "  'direct': False,\n",
       "  'gonna': False,\n",
       "  'chest': False,\n",
       "  'spot': False,\n",
       "  'inform': False,\n",
       "  'grouchi': False,\n",
       "  'letter': False,\n",
       "  'five': False,\n",
       "  'inhibit': False,\n",
       "  'paint': False,\n",
       "  'sex': False,\n",
       "  'somewher': False,\n",
       "  'involv': False,\n",
       "  'dog': False,\n",
       "  'street': False,\n",
       "  'prepar': False,\n",
       "  'certainli': False,\n",
       "  'what': False,\n",
       "  'mile': False,\n",
       "  'honest': False,\n",
       "  'wast': False,\n",
       "  'devot': False,\n",
       "  'exercis': False,\n",
       "  'near': False,\n",
       "  'onto': False,\n",
       "  'choos': False,\n",
       "  'shouldnt': False,\n",
       "  'desper': False,\n",
       "  'smell': False,\n",
       "  'base': False,\n",
       "  'crap': False,\n",
       "  'writer': False,\n",
       "  'protect': False,\n",
       "  'wrote': False,\n",
       "  'handl': False,\n",
       "  'bitch': False,\n",
       "  'catch': False,\n",
       "  'mark': False,\n",
       "  'apart': False,\n",
       "  'card': False,\n",
       "  'shake': False,\n",
       "  'written': False,\n",
       "  'shoe': False,\n",
       "  'pop': False,\n",
       "  'assault': False,\n",
       "  'author': False,\n",
       "  'distraught': False,\n",
       "  'term': False,\n",
       "  'beyond': False,\n",
       "  'extra': False,\n",
       "  'weak': False,\n",
       "  'immedi': False,\n",
       "  'consider': False,\n",
       "  'weepi': False,\n",
       "  'eleg': False,\n",
       "  'brother': False,\n",
       "  'exam': False,\n",
       "  'middl': False,\n",
       "  'remain': False,\n",
       "  'lol': False,\n",
       "  'cultur': False,\n",
       "  'purpos': False,\n",
       "  'co': False,\n",
       "  'window': False,\n",
       "  'site': False,\n",
       "  'easili': False,\n",
       "  'afternoon': False,\n",
       "  'lord': False,\n",
       "  'betray': False,\n",
       "  'societi': False,\n",
       "  'folk': False,\n",
       "  'includ': False,\n",
       "  'clear': False,\n",
       "  'seri': False,\n",
       "  'brought': False,\n",
       "  ...},\n",
       " 2)"
      ]
     },
     "execution_count": 236,
     "metadata": {},
     "output_type": "execute_result"
    }
   ],
   "source": [
    "featureSet[0]"
   ]
  },
  {
   "cell_type": "code",
   "execution_count": 237,
   "metadata": {},
   "outputs": [
    {
     "data": {
      "text/plain": [
       "15969"
      ]
     },
     "execution_count": 237,
     "metadata": {},
     "output_type": "execute_result"
    }
   ],
   "source": [
    "len(featureSet)"
   ]
  },
  {
   "cell_type": "code",
   "execution_count": 238,
   "metadata": {},
   "outputs": [],
   "source": [
    "datosEntrenamiento = featureSet[:6676]\n",
    "datosTesteo = featureSet[6676:]"
   ]
  },
  {
   "cell_type": "markdown",
   "metadata": {},
   "source": [
    "## Testeo de Datos"
   ]
  },
  {
   "cell_type": "code",
   "execution_count": 239,
   "metadata": {},
   "outputs": [],
   "source": [
    "clasificador = nltk.NaiveBayesClassifier.train(datosEntrenamiento)"
   ]
  },
  {
   "cell_type": "markdown",
   "metadata": {},
   "source": [
    "### Metricas de Calidad del Modelo"
   ]
  },
  {
   "cell_type": "code",
   "execution_count": 240,
   "metadata": {
    "scrolled": true
   },
   "outputs": [
    {
     "name": "stdout",
     "output_type": "stream",
     "text": [
      "Naive Bayes accuracy:  75.69138060906059\n"
     ]
    }
   ],
   "source": [
    "print(\"Naive Bayes accuracy: \", (nltk.classify.accuracy(clasificador,datosTesteo))*100)"
   ]
  },
  {
   "cell_type": "code",
   "execution_count": 241,
   "metadata": {},
   "outputs": [],
   "source": [
    "errors = []\n",
    "t=[]\n",
    "for (target, tweet) in testF:\n",
    "    guess = clasificador.classify(find_features(tweet))\n",
    "    if guess != target:   \n",
    "        errors.append((target,guess,tweet))\n",
    "    else:\n",
    "        t.append((target,guess,tweet))"
   ]
  },
  {
   "cell_type": "code",
   "execution_count": 242,
   "metadata": {
    "scrolled": true
   },
   "outputs": [
    {
     "data": {
      "text/plain": [
       "[(4,\n",
       "  2,\n",
       "  ['sometim',\n",
       "   'confus',\n",
       "   'well',\n",
       "   'moment',\n",
       "   'time',\n",
       "   'need',\n",
       "   'day',\n",
       "   'pay',\n",
       "   'bill',\n",
       "   'come',\n",
       "   'dont',\n",
       "   'money',\n",
       "   'need',\n",
       "   'sometim',\n",
       "   'feel',\n",
       "   'confus',\n",
       "   'well']),\n",
       " (1,\n",
       "  4,\n",
       "  ['ill',\n",
       "   'transfer',\n",
       "   'feel',\n",
       "   'use',\n",
       "   'next',\n",
       "   'year',\n",
       "   'class',\n",
       "   'class',\n",
       "   'websit',\n",
       "   'specif',\n",
       "   'content',\n",
       "   'unit',\n",
       "   'blog',\n",
       "   'site']),\n",
       " (1, 2, ['feel', 'heart', 'lot', 'make', 'sure', 'still']),\n",
       " (1,\n",
       "  2,\n",
       "  ['im',\n",
       "   'feel',\n",
       "   'gener',\n",
       "   'yesterday',\n",
       "   'year',\n",
       "   'tpt',\n",
       "   'aversari',\n",
       "   'slack',\n",
       "   'blog',\n",
       "   'sinc',\n",
       "   'last',\n",
       "   'week',\n",
       "   'ive',\n",
       "   'sick']),\n",
       " (1,\n",
       "  2,\n",
       "  ['didnt',\n",
       "   'feel',\n",
       "   'support',\n",
       "   'whole',\n",
       "   'confer',\n",
       "   'pull',\n",
       "   'gunk',\n",
       "   'drain',\n",
       "   'one',\n",
       "   'sink',\n",
       "   'wonder',\n",
       "   'whether',\n",
       "   'folk',\n",
       "   'came',\n",
       "   'make',\n",
       "   'confer',\n",
       "   'work',\n",
       "   'might',\n",
       "   'feel',\n",
       "   'frustrat',\n",
       "   'didnt',\n",
       "   'work',\n",
       "   'noth',\n",
       "   'would',\n",
       "   'done']),\n",
       " (5, 1, ['im', 'feel', 'gener', 'tonight']),\n",
       " (3,\n",
       "  2,\n",
       "  ['think', 'feel', 'symptom', 'cold', 'headach', 'last', 'coupl', 'day']),\n",
       " (1,\n",
       "  5,\n",
       "  ['final',\n",
       "   'allow',\n",
       "   'feel',\n",
       "   'accept',\n",
       "   'intern',\n",
       "   'boundari',\n",
       "   'began',\n",
       "   'dissolv',\n",
       "   'began',\n",
       "   'see',\n",
       "   'project',\n",
       "   'suppress',\n",
       "   'feel',\n",
       "   'creat',\n",
       "   'lot',\n",
       "   'pain',\n",
       "   'around']),\n",
       " (5, 2, ['work', 'one', 'would', 'feel', 'quit', 'affection']),\n",
       " (6,\n",
       "  4,\n",
       "  ['know', 'alway', 'feel', 'littl', 'bit', 'strang', 'place', 'academi'])]"
      ]
     },
     "execution_count": 242,
     "metadata": {},
     "output_type": "execute_result"
    }
   ],
   "source": [
    "errors[:10]"
   ]
  },
  {
   "cell_type": "markdown",
   "metadata": {},
   "source": [
    "Estos son los errores que arroja, seria interesante analizar en donde y por que se esta equivocando. Por que me esta arrojando falsos positivos y falsos negativos?"
   ]
  },
  {
   "cell_type": "code",
   "execution_count": 243,
   "metadata": {
    "scrolled": true
   },
   "outputs": [
    {
     "data": {
      "text/plain": [
       "2259"
      ]
     },
     "execution_count": 243,
     "metadata": {},
     "output_type": "execute_result"
    }
   ],
   "source": [
    "len(errors)"
   ]
  },
  {
   "cell_type": "markdown",
   "metadata": {},
   "source": [
    "##### Calcula Falsos Positivos, Falsos Negativos, TruePositives, FalsePositives.    (0 - Positivo, 1 - Negativo)"
   ]
  },
  {
   "cell_type": "code",
   "execution_count": 244,
   "metadata": {
    "scrolled": true
   },
   "outputs": [
    {
     "name": "stdout",
     "output_type": "stream",
     "text": [
      "Numero de falsos positivos es 0\n",
      "Numero de falsos negativos es 0\n",
      "Numero de falsos positivos es 4355\n",
      "Numero de falsos negativos es 2679\n"
     ]
    }
   ],
   "source": [
    "countFP = 0\n",
    "countFN = 0\n",
    "countTP = 0\n",
    "countTN = 0\n",
    "for (target,guess,mgs) in errors:\n",
    "    if target == 0 and guess == 1:\n",
    "        countFP = countFP + 1\n",
    "    elif target == 1 and guess == 0:\n",
    "        countFN = countFN + 1\n",
    "for (target,guess,mgs) in t:\n",
    "    if target == 1 and guess == 1:\n",
    "        countTN = countTN + 1\n",
    "    else:\n",
    "        countTP = countTP + 1\n",
    "print(f\"Numero de falsos positivos es {countFP}\")\n",
    "print(f\"Numero de falsos negativos es {countFN}\")\n",
    "print(f\"Numero de falsos positivos es {countTP}\")\n",
    "print(f\"Numero de falsos negativos es {countTN}\")"
   ]
  },
  {
   "cell_type": "code",
   "execution_count": 245,
   "metadata": {
    "scrolled": true
   },
   "outputs": [
    {
     "name": "stdout",
     "output_type": "stream",
     "text": [
      "El recall es 100.0\n",
      "La precision es 100.0\n",
      "F1Score es 100.0\n"
     ]
    }
   ],
   "source": [
    "recall = (countTP/(countTP + countFN))*100\n",
    "precision = (countTP/(countTP + countFP))*100\n",
    "f1Score = 2*((precision*recall)/(precision+recall))\n",
    "print(f\"El recall es {recall}\")\n",
    "print(f\"La precision es {precision}\")\n",
    "print(f\"F1Score es {f1Score}\")"
   ]
  },
  {
   "cell_type": "code",
   "execution_count": 246,
   "metadata": {},
   "outputs": [
    {
     "name": "stdout",
     "output_type": "stream",
     "text": [
      "Most Informative Features\n",
      "                    amaz = True                6 : 2      =    145.5 : 1.0\n",
      "                 impress = True                6 : 1      =    123.5 : 1.0\n",
      "                   irrit = True                3 : 2      =     69.6 : 1.0\n",
      "                   funni = True                6 : 1      =     64.7 : 1.0\n",
      "                  tender = True                5 : 1      =     62.2 : 1.0\n",
      "                   sweet = True                5 : 2      =     60.5 : 1.0\n",
      "                   belov = True                5 : 2      =     58.1 : 1.0\n",
      "                 surpris = True                6 : 2      =     57.5 : 1.0\n",
      "                   loyal = True                5 : 1      =     53.9 : 1.0\n",
      "                  strang = True                6 : 2      =     53.5 : 1.0\n",
      "                   shock = True                6 : 2      =     52.3 : 1.0\n",
      "                  reluct = True                4 : 2      =     47.3 : 1.0\n",
      "                  offend = True                3 : 1      =     46.7 : 1.0\n",
      "               uncertain = True                4 : 2      =     45.7 : 1.0\n",
      "                  cranki = True                3 : 1      =     45.1 : 1.0\n"
     ]
    }
   ],
   "source": [
    "clasificador.show_most_informative_features(15)"
   ]
  },
  {
   "cell_type": "code",
   "execution_count": 247,
   "metadata": {},
   "outputs": [],
   "source": [
    "def prepararString(tweet):\n",
    "    tweet = tweet.lower()\n",
    "    tweet = \"\".join([c for c in tweet  if c not in string.punctuation])\n",
    "    tokens = re.split('\\W+',tweet)\n",
    "    tweetC = [word for word in tokens if word not in stop]\n",
    "    tweetS = [ps.stem(word) for word in tweetC]\n",
    "    return tweetS\n",
    "        "
   ]
  },
  {
   "cell_type": "code",
   "execution_count": 248,
   "metadata": {
    "scrolled": true
   },
   "outputs": [
    {
     "data": {
      "text/plain": [
       "1"
      ]
     },
     "execution_count": 248,
     "metadata": {},
     "output_type": "execute_result"
    }
   ],
   "source": [
    "clasificador.classify(find_features(prepararString(\"I feel this was great\")))"
   ]
  },
  {
   "cell_type": "code",
   "execution_count": 249,
   "metadata": {},
   "outputs": [
    {
     "name": "stdout",
     "output_type": "stream",
     "text": [
      "['feel', 'great']\n"
     ]
    }
   ],
   "source": [
    "print(prepararString(\"I feel this was great\"))"
   ]
  },
  {
   "cell_type": "code",
   "execution_count": 250,
   "metadata": {
    "scrolled": true
   },
   "outputs": [
    {
     "data": {
      "text/plain": [
       "2"
      ]
     },
     "execution_count": 250,
     "metadata": {},
     "output_type": "execute_result"
    }
   ],
   "source": [
    "\n",
    "clasificador.classify(find_features(prepararString(\"I hate it so much\")))"
   ]
  },
  {
   "cell_type": "code",
   "execution_count": 251,
   "metadata": {
    "scrolled": true
   },
   "outputs": [
    {
     "name": "stdout",
     "output_type": "stream",
     "text": [
      "['hate', 'much']\n"
     ]
    }
   ],
   "source": [
    "print(prepararString(\"I hate it so much\"))"
   ]
  },
  {
   "cell_type": "code",
   "execution_count": 252,
   "metadata": {},
   "outputs": [
    {
     "data": {
      "text/plain": [
       "3"
      ]
     },
     "execution_count": 252,
     "metadata": {},
     "output_type": "execute_result"
    }
   ],
   "source": [
    "clasificador.classify(find_features(prepararString(\"I could'nt beleive it\")))"
   ]
  },
  {
   "cell_type": "code",
   "execution_count": 253,
   "metadata": {},
   "outputs": [
    {
     "name": "stdout",
     "output_type": "stream",
     "text": [
      "['couldnt', 'beleiv']\n"
     ]
    }
   ],
   "source": [
    "print(prepararString(\"I could'nt beleive it\"))"
   ]
  },
  {
   "cell_type": "code",
   "execution_count": 254,
   "metadata": {},
   "outputs": [
    {
     "data": {
      "text/plain": [
       "1"
      ]
     },
     "execution_count": 254,
     "metadata": {},
     "output_type": "execute_result"
    }
   ],
   "source": [
    "clasificador.classify(find_features(prepararString(\"I feel very good about this\")))"
   ]
  },
  {
   "cell_type": "code",
   "execution_count": 255,
   "metadata": {},
   "outputs": [
    {
     "name": "stdout",
     "output_type": "stream",
     "text": [
      "['feel', 'good']\n"
     ]
    }
   ],
   "source": [
    "print(prepararString(\"I feel very good about this\"))"
   ]
  },
  {
   "cell_type": "code",
   "execution_count": 256,
   "metadata": {},
   "outputs": [
    {
     "data": {
      "text/plain": [
       "4"
      ]
     },
     "execution_count": 256,
     "metadata": {},
     "output_type": "execute_result"
    }
   ],
   "source": [
    "clasificador.classify(find_features(prepararString(\"I am confused how this works\")))"
   ]
  },
  {
   "cell_type": "code",
   "execution_count": 257,
   "metadata": {},
   "outputs": [
    {
     "name": "stdout",
     "output_type": "stream",
     "text": [
      "['confus']\n"
     ]
    }
   ],
   "source": [
    "print(prepararString(\"I am confused with this\"))"
   ]
  }
 ],
 "metadata": {
  "kernelspec": {
   "display_name": "Python 3",
   "language": "python",
   "name": "python3"
  },
  "language_info": {
   "codemirror_mode": {
    "name": "ipython",
    "version": 3
   },
   "file_extension": ".py",
   "mimetype": "text/x-python",
   "name": "python",
   "nbconvert_exporter": "python",
   "pygments_lexer": "ipython3",
   "version": "3.8.8"
  }
 },
 "nbformat": 4,
 "nbformat_minor": 4
}
