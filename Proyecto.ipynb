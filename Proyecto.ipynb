{
 "cells": [
  {
   "cell_type": "code",
   "execution_count": 1,
   "id": "2f4c5655",
   "metadata": {},
   "outputs": [
    {
     "name": "stderr",
     "output_type": "stream",
     "text": [
      "[nltk_data] Downloading package vader_lexicon to\n",
      "[nltk_data]     C:\\Users\\yasmi\\AppData\\Roaming\\nltk_data...\n",
      "[nltk_data]   Package vader_lexicon is already up-to-date!\n"
     ]
    }
   ],
   "source": [
    "# Declaración de la semilla\n",
    "seed = 161\n",
    "# Librerías para manejo de datos\n",
    "import pandas as pd\n",
    "pd.set_option('display.max_columns', 25) # Número máximo de columnas a mostrar\n",
    "pd.set_option('display.max_rows', 50) # Numero máximo de filas a mostar\n",
    "import nltk\n",
    "nltk.download('vader_lexicon')\n",
    "import numpy as np\n",
    "np.random.seed(seed)\n",
    "import sys\n",
    "\n",
    "import re, string, unicodedata\n",
    "#Sentiment-Analysis\n",
    "from nltk import word_tokenize, sent_tokenize\n",
    "from nltk.corpus import stopwords\n",
    "from nltk.stem import LancasterStemmer, WordNetLemmatizer\n",
    "from nltk.sentiment.vader import SentimentIntensityAnalyzer\n",
    "from textblob import TextBlob\n",
    "from sklearn.impute import SimpleImputer\n",
    "\n",
    "\n",
    "#Para crear GaussianNB\n",
    "from sklearn.naive_bayes import GaussianNB\n",
    "#Para craer Support Vector Machine\n",
    "from sklearn.svm import SVC\n",
    "\n",
    "# Para preparar los datos\n",
    "# ------------------------\n",
    "\n",
    "from sklearn.feature_extraction.text import TfidfVectorizer, CountVectorizer, HashingVectorizer\n",
    "from sklearn import tree as tr\n",
    "from sklearn.preprocessing import LabelEncoder\n",
    "# Para crear el arbol de decisión \n",
    "from sklearn.tree import DecisionTreeClassifier\n",
    "# Para realizar la separación del conjunto de aprendizaje en entrenamiento y test.\n",
    "from sklearn.model_selection import train_test_split\n",
    "# Para evaluar el modelo\n",
    "from sklearn.metrics import confusion_matrix, classification_report, precision_score, recall_score, f1_score, accuracy_score\n",
    "from sklearn.metrics import plot_confusion_matrix\n",
    "# Para búsqueda de hiperparámetros\n",
    "from sklearn.model_selection import GridSearchCV\n",
    "# Para la validación cruzada\n",
    "from sklearn.model_selection import KFold \n",
    "from sklearn.compose import ColumnTransformer\n",
    "from sklearn.preprocessing import MinMaxScaler, minmax_scale\n",
    "from sklearn.impute import SimpleImputer\n",
    "from sklearn.pipeline import Pipeline\n",
    "\n",
    "#KMEANS\n",
    "from sklearn.cluster import KMeans\n",
    "\n",
    "#multiclass\n",
    "from sklearn.multiclass import OneVsRestClassifier\n",
    "from sklearn.multiclass import OneVsOneClassifier\n",
    "from sklearn.datasets import make_classification\n",
    "\n",
    "\n",
    "#Librerías para la visualización\n",
    "# -------------------------\n",
    "import matplotlib.pyplot as plt\n",
    "# Seaborn\n",
    "import seaborn as sns \n"
   ]
  },
  {
   "cell_type": "code",
   "execution_count": 2,
   "id": "b08fad3b-428b-4615-b172-576fe7e75fa4",
   "metadata": {},
   "outputs": [],
   "source": [
    "# Se cargan los datos. \n",
    "df_emociones=pd.read_csv('ProyectoDatos.txt', sep=';', encoding = 'utf-8')"
   ]
  },
  {
   "cell_type": "code",
   "execution_count": 3,
   "id": "b261c027-67eb-498d-a0fa-a468acb9dc41",
   "metadata": {},
   "outputs": [
    {
     "data": {
      "text/plain": [
       "(16000, 2)"
      ]
     },
     "execution_count": 3,
     "metadata": {},
     "output_type": "execute_result"
    }
   ],
   "source": [
    "df_emociones.shape"
   ]
  },
  {
   "cell_type": "code",
   "execution_count": 4,
   "id": "900359dc-cd26-42b9-9b7e-46214720e9c3",
   "metadata": {},
   "outputs": [
    {
     "data": {
      "text/html": [
       "<div>\n",
       "<style scoped>\n",
       "    .dataframe tbody tr th:only-of-type {\n",
       "        vertical-align: middle;\n",
       "    }\n",
       "\n",
       "    .dataframe tbody tr th {\n",
       "        vertical-align: top;\n",
       "    }\n",
       "\n",
       "    .dataframe thead th {\n",
       "        text-align: right;\n",
       "    }\n",
       "</style>\n",
       "<table border=\"1\" class=\"dataframe\">\n",
       "  <thead>\n",
       "    <tr style=\"text-align: right;\">\n",
       "      <th></th>\n",
       "      <th>Comentario</th>\n",
       "      <th>Emocion</th>\n",
       "    </tr>\n",
       "  </thead>\n",
       "  <tbody>\n",
       "    <tr>\n",
       "      <th>0</th>\n",
       "      <td>i didnt feel humiliated</td>\n",
       "      <td>sadness</td>\n",
       "    </tr>\n",
       "    <tr>\n",
       "      <th>1</th>\n",
       "      <td>i can go from feeling so hopeless to so damned...</td>\n",
       "      <td>sadness</td>\n",
       "    </tr>\n",
       "    <tr>\n",
       "      <th>2</th>\n",
       "      <td>im grabbing a minute to post i feel greedy wrong</td>\n",
       "      <td>anger</td>\n",
       "    </tr>\n",
       "    <tr>\n",
       "      <th>3</th>\n",
       "      <td>i am ever feeling nostalgic about the fireplac...</td>\n",
       "      <td>love</td>\n",
       "    </tr>\n",
       "    <tr>\n",
       "      <th>4</th>\n",
       "      <td>i am feeling grouchy</td>\n",
       "      <td>anger</td>\n",
       "    </tr>\n",
       "  </tbody>\n",
       "</table>\n",
       "</div>"
      ],
      "text/plain": [
       "                                          Comentario  Emocion\n",
       "0                            i didnt feel humiliated  sadness\n",
       "1  i can go from feeling so hopeless to so damned...  sadness\n",
       "2   im grabbing a minute to post i feel greedy wrong    anger\n",
       "3  i am ever feeling nostalgic about the fireplac...     love\n",
       "4                               i am feeling grouchy    anger"
      ]
     },
     "execution_count": 4,
     "metadata": {},
     "output_type": "execute_result"
    }
   ],
   "source": [
    "df_emociones.head()"
   ]
  },
  {
   "cell_type": "code",
   "execution_count": 5,
   "id": "83851e9d-2f9d-4c34-bd54-587bc72eb37d",
   "metadata": {},
   "outputs": [
    {
     "data": {
      "text/plain": [
       "Comentario    object\n",
       "Emocion       object\n",
       "dtype: object"
      ]
     },
     "execution_count": 5,
     "metadata": {},
     "output_type": "execute_result"
    }
   ],
   "source": [
    "df_emociones.dtypes"
   ]
  },
  {
   "cell_type": "code",
   "execution_count": 6,
   "id": "2af1301d-045f-42ca-a868-d07882ca3516",
   "metadata": {},
   "outputs": [
    {
     "data": {
      "text/html": [
       "<div>\n",
       "<style scoped>\n",
       "    .dataframe tbody tr th:only-of-type {\n",
       "        vertical-align: middle;\n",
       "    }\n",
       "\n",
       "    .dataframe tbody tr th {\n",
       "        vertical-align: top;\n",
       "    }\n",
       "\n",
       "    .dataframe thead th {\n",
       "        text-align: right;\n",
       "    }\n",
       "</style>\n",
       "<table border=\"1\" class=\"dataframe\">\n",
       "  <thead>\n",
       "    <tr style=\"text-align: right;\">\n",
       "      <th></th>\n",
       "      <th>Comentario</th>\n",
       "      <th>Emocion</th>\n",
       "    </tr>\n",
       "  </thead>\n",
       "  <tbody>\n",
       "    <tr>\n",
       "      <th>count</th>\n",
       "      <td>16000</td>\n",
       "      <td>16000</td>\n",
       "    </tr>\n",
       "    <tr>\n",
       "      <th>unique</th>\n",
       "      <td>15969</td>\n",
       "      <td>6</td>\n",
       "    </tr>\n",
       "    <tr>\n",
       "      <th>top</th>\n",
       "      <td>i shy away from songs that talk about how i fe...</td>\n",
       "      <td>joy</td>\n",
       "    </tr>\n",
       "    <tr>\n",
       "      <th>freq</th>\n",
       "      <td>2</td>\n",
       "      <td>5362</td>\n",
       "    </tr>\n",
       "  </tbody>\n",
       "</table>\n",
       "</div>"
      ],
      "text/plain": [
       "                                               Comentario Emocion\n",
       "count                                               16000   16000\n",
       "unique                                              15969       6\n",
       "top     i shy away from songs that talk about how i fe...     joy\n",
       "freq                                                    2    5362"
      ]
     },
     "execution_count": 6,
     "metadata": {},
     "output_type": "execute_result"
    }
   ],
   "source": [
    "df_emociones.describe()"
   ]
  },
  {
   "cell_type": "code",
   "execution_count": 7,
   "id": "1c5038f8-fced-48cb-a197-611c3d040785",
   "metadata": {},
   "outputs": [
    {
     "data": {
      "text/plain": [
       "Comentario    0\n",
       "Emocion       0\n",
       "dtype: int64"
      ]
     },
     "execution_count": 7,
     "metadata": {},
     "output_type": "execute_result"
    }
   ],
   "source": [
    "df_emociones.isnull().sum().sort_values()"
   ]
  },
  {
   "cell_type": "code",
   "execution_count": 8,
   "id": "69bdc56f-2d75-4936-97a2-1672594d3b93",
   "metadata": {},
   "outputs": [],
   "source": [
    "df_emociones_t = df_emociones.copy()"
   ]
  },
  {
   "cell_type": "code",
   "execution_count": 9,
   "id": "35995310-8f13-4217-a6fa-f905bda5a7e9",
   "metadata": {},
   "outputs": [],
   "source": [
    "df_emociones_t = df_emociones_t.dropna()\n",
    "df_emociones_t = df_emociones_t.drop_duplicates()"
   ]
  },
  {
   "cell_type": "code",
   "execution_count": 10,
   "id": "9ffbd42c-0e33-4249-b769-e49476b514f9",
   "metadata": {},
   "outputs": [
    {
     "data": {
      "text/plain": [
       "count     15999\n",
       "unique        6\n",
       "top         joy\n",
       "freq       5361\n",
       "Name: Emocion, dtype: object"
      ]
     },
     "execution_count": 10,
     "metadata": {},
     "output_type": "execute_result"
    }
   ],
   "source": [
    "df_emociones_t['Emocion'].describe()"
   ]
  },
  {
   "cell_type": "code",
   "execution_count": 11,
   "id": "8db40a6a-7d03-4429-bcd8-345b7276c798",
   "metadata": {},
   "outputs": [
    {
     "data": {
      "text/plain": [
       "joy         5361\n",
       "sadness     4666\n",
       "anger       2159\n",
       "fear        1937\n",
       "love        1304\n",
       "surprise     572\n",
       "Name: Emocion, dtype: int64"
      ]
     },
     "execution_count": 11,
     "metadata": {},
     "output_type": "execute_result"
    }
   ],
   "source": [
    "pd.value_counts(df_emociones_t['Emocion'])"
   ]
  },
  {
   "cell_type": "code",
   "execution_count": 12,
   "id": "09f6dc93-0419-4c5a-8511-ea54f40afe8f",
   "metadata": {},
   "outputs": [],
   "source": [
    "df_emociones_t['Emocion'].replace(to_replace = ['joy'], value = '1', inplace = True)\n",
    "df_emociones_t['Emocion'].replace(to_replace = ['sadness'], value = '2', inplace = True)\n",
    "df_emociones_t['Emocion'].replace(to_replace = ['anger'], value = '3', inplace = True)\n",
    "df_emociones_t['Emocion'].replace(to_replace = ['fear'], value = '4', inplace = True)\n",
    "df_emociones_t['Emocion'].replace(to_replace = ['love'], value = '5', inplace = True)\n",
    "df_emociones_t['Emocion'].replace(to_replace = ['surprise'], value = '6', inplace = True)"
   ]
  },
  {
   "cell_type": "code",
   "execution_count": 13,
   "id": "503a6158-a8b2-4c95-91a0-1d61925f8830",
   "metadata": {},
   "outputs": [],
   "source": [
    "df_emociones_t['Emocion'] = pd.to_numeric(df_emociones_t.Emocion, errors = 'coerce')"
   ]
  },
  {
   "cell_type": "code",
   "execution_count": 14,
   "id": "339c9420-3510-412d-b7b7-581ddb86be0d",
   "metadata": {},
   "outputs": [
    {
     "data": {
      "image/png": "[encoded data removed]",
      "text/plain": [
       "<Figure size 432x288 with 1 Axes>"
      ]
     },
     "metadata": {
      "needs_background": "light"
     },
     "output_type": "display_data"
    }
   ],
   "source": [
    "ax = sns.countplot(x='Emocion', data=df_emociones_t)"
   ]
  },
  {
   "cell_type": "code",
   "execution_count": 15,
   "id": "b9585bfb",
   "metadata": {},
   "outputs": [],
   "source": [
    "df_emociones_t2 = df_emociones_t.copy()\n",
    "sid = SentimentIntensityAnalyzer()\n",
    "df_emociones_t2[\"CompoundSentimentAnalyzer\"] = df_emociones_t2['Comentario'].apply(lambda i: sid.polarity_scores(i)['compound'])\n",
    "df_emociones_t2[\"PositiveSentimentAnalyzer\"] = df_emociones_t2['Comentario'].apply(lambda i: sid.polarity_scores(i)['pos'])\n",
    "df_emociones_t2[\"NegativeSentimentAnalyzer\"] = df_emociones_t2['Comentario'].apply(lambda i: sid.polarity_scores(i)['neg'])\n",
    "df_emociones_t2[\"NeutralSentimentAnalyzer\"] = df_emociones_t2['Comentario'].apply(lambda i: sid.polarity_scores(i)['neu'])"
   ]
  },
  {
   "cell_type": "code",
   "execution_count": 16,
   "id": "b297ac8e-8e77-40e1-b564-4d91db0123d5",
   "metadata": {},
   "outputs": [
    {
     "data": {
      "text/html": [
       "<div>\n",
       "<style scoped>\n",
       "    .dataframe tbody tr th:only-of-type {\n",
       "        vertical-align: middle;\n",
       "    }\n",
       "\n",
       "    .dataframe tbody tr th {\n",
       "        vertical-align: top;\n",
       "    }\n",
       "\n",
       "    .dataframe thead th {\n",
       "        text-align: right;\n",
       "    }\n",
       "</style>\n",
       "<table border=\"1\" class=\"dataframe\">\n",
       "  <thead>\n",
       "    <tr style=\"text-align: right;\">\n",
       "      <th></th>\n",
       "      <th>Comentario</th>\n",
       "      <th>Emocion</th>\n",
       "      <th>CompoundSentimentAnalyzer</th>\n",
       "      <th>PositiveSentimentAnalyzer</th>\n",
       "      <th>NegativeSentimentAnalyzer</th>\n",
       "      <th>NeutralSentimentAnalyzer</th>\n",
       "    </tr>\n",
       "  </thead>\n",
       "  <tbody>\n",
       "    <tr>\n",
       "      <th>0</th>\n",
       "      <td>i didnt feel humiliated</td>\n",
       "      <td>2</td>\n",
       "      <td>0.2584</td>\n",
       "      <td>0.504</td>\n",
       "      <td>0.000</td>\n",
       "      <td>0.496</td>\n",
       "    </tr>\n",
       "    <tr>\n",
       "      <th>1</th>\n",
       "      <td>i can go from feeling so hopeless to so damned...</td>\n",
       "      <td>2</td>\n",
       "      <td>0.0821</td>\n",
       "      <td>0.271</td>\n",
       "      <td>0.227</td>\n",
       "      <td>0.503</td>\n",
       "    </tr>\n",
       "    <tr>\n",
       "      <th>2</th>\n",
       "      <td>im grabbing a minute to post i feel greedy wrong</td>\n",
       "      <td>3</td>\n",
       "      <td>-0.6597</td>\n",
       "      <td>0.000</td>\n",
       "      <td>0.474</td>\n",
       "      <td>0.526</td>\n",
       "    </tr>\n",
       "    <tr>\n",
       "      <th>3</th>\n",
       "      <td>i am ever feeling nostalgic about the fireplac...</td>\n",
       "      <td>5</td>\n",
       "      <td>0.1280</td>\n",
       "      <td>0.091</td>\n",
       "      <td>0.000</td>\n",
       "      <td>0.909</td>\n",
       "    </tr>\n",
       "    <tr>\n",
       "      <th>4</th>\n",
       "      <td>i am feeling grouchy</td>\n",
       "      <td>3</td>\n",
       "      <td>-0.3400</td>\n",
       "      <td>0.278</td>\n",
       "      <td>0.537</td>\n",
       "      <td>0.185</td>\n",
       "    </tr>\n",
       "    <tr>\n",
       "      <th>...</th>\n",
       "      <td>...</td>\n",
       "      <td>...</td>\n",
       "      <td>...</td>\n",
       "      <td>...</td>\n",
       "      <td>...</td>\n",
       "      <td>...</td>\n",
       "    </tr>\n",
       "    <tr>\n",
       "      <th>15995</th>\n",
       "      <td>i just had a very brief time in the beanbag an...</td>\n",
       "      <td>2</td>\n",
       "      <td>-0.0772</td>\n",
       "      <td>0.112</td>\n",
       "      <td>0.126</td>\n",
       "      <td>0.762</td>\n",
       "    </tr>\n",
       "    <tr>\n",
       "      <th>15996</th>\n",
       "      <td>i am now turning and i feel pathetic that i am...</td>\n",
       "      <td>2</td>\n",
       "      <td>-0.5719</td>\n",
       "      <td>0.000</td>\n",
       "      <td>0.198</td>\n",
       "      <td>0.802</td>\n",
       "    </tr>\n",
       "    <tr>\n",
       "      <th>15997</th>\n",
       "      <td>i feel strong and good overall</td>\n",
       "      <td>1</td>\n",
       "      <td>0.7351</td>\n",
       "      <td>0.674</td>\n",
       "      <td>0.000</td>\n",
       "      <td>0.326</td>\n",
       "    </tr>\n",
       "    <tr>\n",
       "      <th>15998</th>\n",
       "      <td>i feel like this was such a rude comment and i...</td>\n",
       "      <td>3</td>\n",
       "      <td>0.3612</td>\n",
       "      <td>0.333</td>\n",
       "      <td>0.182</td>\n",
       "      <td>0.485</td>\n",
       "    </tr>\n",
       "    <tr>\n",
       "      <th>15999</th>\n",
       "      <td>i know a lot but i feel so stupid because i ca...</td>\n",
       "      <td>2</td>\n",
       "      <td>-0.7935</td>\n",
       "      <td>0.000</td>\n",
       "      <td>0.377</td>\n",
       "      <td>0.623</td>\n",
       "    </tr>\n",
       "  </tbody>\n",
       "</table>\n",
       "<p>15999 rows × 6 columns</p>\n",
       "</div>"
      ],
      "text/plain": [
       "                                              Comentario  Emocion  \\\n",
       "0                                i didnt feel humiliated        2   \n",
       "1      i can go from feeling so hopeless to so damned...        2   \n",
       "2       im grabbing a minute to post i feel greedy wrong        3   \n",
       "3      i am ever feeling nostalgic about the fireplac...        5   \n",
       "4                                   i am feeling grouchy        3   \n",
       "...                                                  ...      ...   \n",
       "15995  i just had a very brief time in the beanbag an...        2   \n",
       "15996  i am now turning and i feel pathetic that i am...        2   \n",
       "15997                     i feel strong and good overall        1   \n",
       "15998  i feel like this was such a rude comment and i...        3   \n",
       "15999  i know a lot but i feel so stupid because i ca...        2   \n",
       "\n",
       "       CompoundSentimentAnalyzer  PositiveSentimentAnalyzer  \\\n",
       "0                         0.2584                      0.504   \n",
       "1                         0.0821                      0.271   \n",
       "2                        -0.6597                      0.000   \n",
       "3                         0.1280                      0.091   \n",
       "4                        -0.3400                      0.278   \n",
       "...                          ...                        ...   \n",
       "15995                    -0.0772                      0.112   \n",
       "15996                    -0.5719                      0.000   \n",
       "15997                     0.7351                      0.674   \n",
       "15998                     0.3612                      0.333   \n",
       "15999                    -0.7935                      0.000   \n",
       "\n",
       "       NegativeSentimentAnalyzer  NeutralSentimentAnalyzer  \n",
       "0                          0.000                     0.496  \n",
       "1                          0.227                     0.503  \n",
       "2                          0.474                     0.526  \n",
       "3                          0.000                     0.909  \n",
       "4                          0.537                     0.185  \n",
       "...                          ...                       ...  \n",
       "15995                      0.126                     0.762  \n",
       "15996                      0.198                     0.802  \n",
       "15997                      0.000                     0.326  \n",
       "15998                      0.182                     0.485  \n",
       "15999                      0.377                     0.623  \n",
       "\n",
       "[15999 rows x 6 columns]"
      ]
     },
     "execution_count": 16,
     "metadata": {},
     "output_type": "execute_result"
    }
   ],
   "source": [
    "df_emociones_t2"
   ]
  },
  {
   "cell_type": "code",
   "execution_count": 17,
   "id": "807ea245",
   "metadata": {},
   "outputs": [
    {
     "data": {
      "text/html": [
       "<div>\n",
       "<style scoped>\n",
       "    .dataframe tbody tr th:only-of-type {\n",
       "        vertical-align: middle;\n",
       "    }\n",
       "\n",
       "    .dataframe tbody tr th {\n",
       "        vertical-align: top;\n",
       "    }\n",
       "\n",
       "    .dataframe thead th {\n",
       "        text-align: right;\n",
       "    }\n",
       "</style>\n",
       "<table border=\"1\" class=\"dataframe\">\n",
       "  <thead>\n",
       "    <tr style=\"text-align: right;\">\n",
       "      <th></th>\n",
       "      <th>Comentario</th>\n",
       "      <th>Emocion</th>\n",
       "      <th>CompoundSentimentAnalyzer</th>\n",
       "      <th>PositiveSentimentAnalyzer</th>\n",
       "      <th>NegativeSentimentAnalyzer</th>\n",
       "      <th>NeutralSentimentAnalyzer</th>\n",
       "      <th>Polarity</th>\n",
       "      <th>Subectivity</th>\n",
       "    </tr>\n",
       "  </thead>\n",
       "  <tbody>\n",
       "    <tr>\n",
       "      <th>0</th>\n",
       "      <td>i didnt feel humiliated</td>\n",
       "      <td>2</td>\n",
       "      <td>0.2584</td>\n",
       "      <td>0.504</td>\n",
       "      <td>0.000</td>\n",
       "      <td>0.496</td>\n",
       "      <td>0.000000</td>\n",
       "      <td>0.000000</td>\n",
       "    </tr>\n",
       "    <tr>\n",
       "      <th>1</th>\n",
       "      <td>i can go from feeling so hopeless to so damned...</td>\n",
       "      <td>2</td>\n",
       "      <td>0.0821</td>\n",
       "      <td>0.271</td>\n",
       "      <td>0.227</td>\n",
       "      <td>0.503</td>\n",
       "      <td>0.000000</td>\n",
       "      <td>0.000000</td>\n",
       "    </tr>\n",
       "    <tr>\n",
       "      <th>2</th>\n",
       "      <td>im grabbing a minute to post i feel greedy wrong</td>\n",
       "      <td>3</td>\n",
       "      <td>-0.6597</td>\n",
       "      <td>0.000</td>\n",
       "      <td>0.474</td>\n",
       "      <td>0.526</td>\n",
       "      <td>-0.500000</td>\n",
       "      <td>0.900000</td>\n",
       "    </tr>\n",
       "    <tr>\n",
       "      <th>3</th>\n",
       "      <td>i am ever feeling nostalgic about the fireplac...</td>\n",
       "      <td>5</td>\n",
       "      <td>0.1280</td>\n",
       "      <td>0.091</td>\n",
       "      <td>0.000</td>\n",
       "      <td>0.909</td>\n",
       "      <td>-0.500000</td>\n",
       "      <td>1.000000</td>\n",
       "    </tr>\n",
       "    <tr>\n",
       "      <th>4</th>\n",
       "      <td>i am feeling grouchy</td>\n",
       "      <td>3</td>\n",
       "      <td>-0.3400</td>\n",
       "      <td>0.278</td>\n",
       "      <td>0.537</td>\n",
       "      <td>0.185</td>\n",
       "      <td>0.000000</td>\n",
       "      <td>0.000000</td>\n",
       "    </tr>\n",
       "    <tr>\n",
       "      <th>...</th>\n",
       "      <td>...</td>\n",
       "      <td>...</td>\n",
       "      <td>...</td>\n",
       "      <td>...</td>\n",
       "      <td>...</td>\n",
       "      <td>...</td>\n",
       "      <td>...</td>\n",
       "      <td>...</td>\n",
       "    </tr>\n",
       "    <tr>\n",
       "      <th>15995</th>\n",
       "      <td>i just had a very brief time in the beanbag an...</td>\n",
       "      <td>2</td>\n",
       "      <td>-0.0772</td>\n",
       "      <td>0.112</td>\n",
       "      <td>0.126</td>\n",
       "      <td>0.762</td>\n",
       "      <td>0.000000</td>\n",
       "      <td>0.433333</td>\n",
       "    </tr>\n",
       "    <tr>\n",
       "      <th>15996</th>\n",
       "      <td>i am now turning and i feel pathetic that i am...</td>\n",
       "      <td>2</td>\n",
       "      <td>-0.5719</td>\n",
       "      <td>0.000</td>\n",
       "      <td>0.198</td>\n",
       "      <td>0.802</td>\n",
       "      <td>-1.000000</td>\n",
       "      <td>1.000000</td>\n",
       "    </tr>\n",
       "    <tr>\n",
       "      <th>15997</th>\n",
       "      <td>i feel strong and good overall</td>\n",
       "      <td>1</td>\n",
       "      <td>0.7351</td>\n",
       "      <td>0.674</td>\n",
       "      <td>0.000</td>\n",
       "      <td>0.326</td>\n",
       "      <td>0.377778</td>\n",
       "      <td>0.444444</td>\n",
       "    </tr>\n",
       "    <tr>\n",
       "      <th>15998</th>\n",
       "      <td>i feel like this was such a rude comment and i...</td>\n",
       "      <td>3</td>\n",
       "      <td>0.3612</td>\n",
       "      <td>0.333</td>\n",
       "      <td>0.182</td>\n",
       "      <td>0.485</td>\n",
       "      <td>0.066667</td>\n",
       "      <td>0.700000</td>\n",
       "    </tr>\n",
       "    <tr>\n",
       "      <th>15999</th>\n",
       "      <td>i know a lot but i feel so stupid because i ca...</td>\n",
       "      <td>2</td>\n",
       "      <td>-0.7935</td>\n",
       "      <td>0.000</td>\n",
       "      <td>0.377</td>\n",
       "      <td>0.623</td>\n",
       "      <td>-0.800000</td>\n",
       "      <td>1.000000</td>\n",
       "    </tr>\n",
       "  </tbody>\n",
       "</table>\n",
       "<p>15999 rows × 8 columns</p>\n",
       "</div>"
      ],
      "text/plain": [
       "                                              Comentario  Emocion  \\\n",
       "0                                i didnt feel humiliated        2   \n",
       "1      i can go from feeling so hopeless to so damned...        2   \n",
       "2       im grabbing a minute to post i feel greedy wrong        3   \n",
       "3      i am ever feeling nostalgic about the fireplac...        5   \n",
       "4                                   i am feeling grouchy        3   \n",
       "...                                                  ...      ...   \n",
       "15995  i just had a very brief time in the beanbag an...        2   \n",
       "15996  i am now turning and i feel pathetic that i am...        2   \n",
       "15997                     i feel strong and good overall        1   \n",
       "15998  i feel like this was such a rude comment and i...        3   \n",
       "15999  i know a lot but i feel so stupid because i ca...        2   \n",
       "\n",
       "       CompoundSentimentAnalyzer  PositiveSentimentAnalyzer  \\\n",
       "0                         0.2584                      0.504   \n",
       "1                         0.0821                      0.271   \n",
       "2                        -0.6597                      0.000   \n",
       "3                         0.1280                      0.091   \n",
       "4                        -0.3400                      0.278   \n",
       "...                          ...                        ...   \n",
       "15995                    -0.0772                      0.112   \n",
       "15996                    -0.5719                      0.000   \n",
       "15997                     0.7351                      0.674   \n",
       "15998                     0.3612                      0.333   \n",
       "15999                    -0.7935                      0.000   \n",
       "\n",
       "       NegativeSentimentAnalyzer  NeutralSentimentAnalyzer  Polarity  \\\n",
       "0                          0.000                     0.496  0.000000   \n",
       "1                          0.227                     0.503  0.000000   \n",
       "2                          0.474                     0.526 -0.500000   \n",
       "3                          0.000                     0.909 -0.500000   \n",
       "4                          0.537                     0.185  0.000000   \n",
       "...                          ...                       ...       ...   \n",
       "15995                      0.126                     0.762  0.000000   \n",
       "15996                      0.198                     0.802 -1.000000   \n",
       "15997                      0.000                     0.326  0.377778   \n",
       "15998                      0.182                     0.485  0.066667   \n",
       "15999                      0.377                     0.623 -0.800000   \n",
       "\n",
       "       Subectivity  \n",
       "0         0.000000  \n",
       "1         0.000000  \n",
       "2         0.900000  \n",
       "3         1.000000  \n",
       "4         0.000000  \n",
       "...            ...  \n",
       "15995     0.433333  \n",
       "15996     1.000000  \n",
       "15997     0.444444  \n",
       "15998     0.700000  \n",
       "15999     1.000000  \n",
       "\n",
       "[15999 rows x 8 columns]"
      ]
     },
     "execution_count": 17,
     "metadata": {},
     "output_type": "execute_result"
    }
   ],
   "source": [
    "df_emociones_t2[\"Polarity\"] = df_emociones_t2['Comentario'].apply(lambda i: TextBlob(i).sentiment[0])\n",
    "df_emociones_t2[\"Subectivity\"] = df_emociones_t2['Comentario'].apply(lambda i: TextBlob(i).sentiment[1])\n",
    "df_emociones_t2"
   ]
  },
  {
   "cell_type": "code",
   "execution_count": 18,
   "id": "66d23337",
   "metadata": {},
   "outputs": [
    {
     "data": {
      "text/plain": [
       "Emocion                        int64\n",
       "CompoundSentimentAnalyzer    float64\n",
       "PositiveSentimentAnalyzer    float64\n",
       "NegativeSentimentAnalyzer    float64\n",
       "NeutralSentimentAnalyzer     float64\n",
       "Polarity                     float64\n",
       "Subectivity                  float64\n",
       "dtype: object"
      ]
     },
     "execution_count": 18,
     "metadata": {},
     "output_type": "execute_result"
    }
   ],
   "source": [
    "df_num = df_emociones_t2.select_dtypes(['number']).copy()\n",
    "#df_num=df_num.drop('Emocion', axis=1)\n",
    "df_num.dtypes"
   ]
  },
  {
   "cell_type": "code",
   "execution_count": 19,
   "id": "d10e82b5",
   "metadata": {},
   "outputs": [
    {
     "data": {
      "text/html": [
       "<div>\n",
       "<style scoped>\n",
       "    .dataframe tbody tr th:only-of-type {\n",
       "        vertical-align: middle;\n",
       "    }\n",
       "\n",
       "    .dataframe tbody tr th {\n",
       "        vertical-align: top;\n",
       "    }\n",
       "\n",
       "    .dataframe thead th {\n",
       "        text-align: right;\n",
       "    }\n",
       "</style>\n",
       "<table border=\"1\" class=\"dataframe\">\n",
       "  <thead>\n",
       "    <tr style=\"text-align: right;\">\n",
       "      <th></th>\n",
       "      <th>Emocion</th>\n",
       "      <th>CompoundSentimentAnalyzer</th>\n",
       "      <th>PositiveSentimentAnalyzer</th>\n",
       "      <th>NegativeSentimentAnalyzer</th>\n",
       "      <th>NeutralSentimentAnalyzer</th>\n",
       "      <th>Polarity</th>\n",
       "      <th>Subectivity</th>\n",
       "    </tr>\n",
       "  </thead>\n",
       "  <tbody>\n",
       "    <tr>\n",
       "      <th>0</th>\n",
       "      <td>2</td>\n",
       "      <td>0.2584</td>\n",
       "      <td>0.504</td>\n",
       "      <td>0.000</td>\n",
       "      <td>0.496</td>\n",
       "      <td>0.000000</td>\n",
       "      <td>0.000000</td>\n",
       "    </tr>\n",
       "    <tr>\n",
       "      <th>1</th>\n",
       "      <td>2</td>\n",
       "      <td>0.0821</td>\n",
       "      <td>0.271</td>\n",
       "      <td>0.227</td>\n",
       "      <td>0.503</td>\n",
       "      <td>0.000000</td>\n",
       "      <td>0.000000</td>\n",
       "    </tr>\n",
       "    <tr>\n",
       "      <th>2</th>\n",
       "      <td>3</td>\n",
       "      <td>-0.6597</td>\n",
       "      <td>0.000</td>\n",
       "      <td>0.474</td>\n",
       "      <td>0.526</td>\n",
       "      <td>-0.500000</td>\n",
       "      <td>0.900000</td>\n",
       "    </tr>\n",
       "    <tr>\n",
       "      <th>3</th>\n",
       "      <td>5</td>\n",
       "      <td>0.1280</td>\n",
       "      <td>0.091</td>\n",
       "      <td>0.000</td>\n",
       "      <td>0.909</td>\n",
       "      <td>-0.500000</td>\n",
       "      <td>1.000000</td>\n",
       "    </tr>\n",
       "    <tr>\n",
       "      <th>4</th>\n",
       "      <td>3</td>\n",
       "      <td>-0.3400</td>\n",
       "      <td>0.278</td>\n",
       "      <td>0.537</td>\n",
       "      <td>0.185</td>\n",
       "      <td>0.000000</td>\n",
       "      <td>0.000000</td>\n",
       "    </tr>\n",
       "    <tr>\n",
       "      <th>...</th>\n",
       "      <td>...</td>\n",
       "      <td>...</td>\n",
       "      <td>...</td>\n",
       "      <td>...</td>\n",
       "      <td>...</td>\n",
       "      <td>...</td>\n",
       "      <td>...</td>\n",
       "    </tr>\n",
       "    <tr>\n",
       "      <th>15995</th>\n",
       "      <td>2</td>\n",
       "      <td>-0.0772</td>\n",
       "      <td>0.112</td>\n",
       "      <td>0.126</td>\n",
       "      <td>0.762</td>\n",
       "      <td>0.000000</td>\n",
       "      <td>0.433333</td>\n",
       "    </tr>\n",
       "    <tr>\n",
       "      <th>15996</th>\n",
       "      <td>2</td>\n",
       "      <td>-0.5719</td>\n",
       "      <td>0.000</td>\n",
       "      <td>0.198</td>\n",
       "      <td>0.802</td>\n",
       "      <td>-1.000000</td>\n",
       "      <td>1.000000</td>\n",
       "    </tr>\n",
       "    <tr>\n",
       "      <th>15997</th>\n",
       "      <td>1</td>\n",
       "      <td>0.7351</td>\n",
       "      <td>0.674</td>\n",
       "      <td>0.000</td>\n",
       "      <td>0.326</td>\n",
       "      <td>0.377778</td>\n",
       "      <td>0.444444</td>\n",
       "    </tr>\n",
       "    <tr>\n",
       "      <th>15998</th>\n",
       "      <td>3</td>\n",
       "      <td>0.3612</td>\n",
       "      <td>0.333</td>\n",
       "      <td>0.182</td>\n",
       "      <td>0.485</td>\n",
       "      <td>0.066667</td>\n",
       "      <td>0.700000</td>\n",
       "    </tr>\n",
       "    <tr>\n",
       "      <th>15999</th>\n",
       "      <td>2</td>\n",
       "      <td>-0.7935</td>\n",
       "      <td>0.000</td>\n",
       "      <td>0.377</td>\n",
       "      <td>0.623</td>\n",
       "      <td>-0.800000</td>\n",
       "      <td>1.000000</td>\n",
       "    </tr>\n",
       "  </tbody>\n",
       "</table>\n",
       "<p>15999 rows × 7 columns</p>\n",
       "</div>"
      ],
      "text/plain": [
       "       Emocion  CompoundSentimentAnalyzer  PositiveSentimentAnalyzer  \\\n",
       "0            2                     0.2584                      0.504   \n",
       "1            2                     0.0821                      0.271   \n",
       "2            3                    -0.6597                      0.000   \n",
       "3            5                     0.1280                      0.091   \n",
       "4            3                    -0.3400                      0.278   \n",
       "...        ...                        ...                        ...   \n",
       "15995        2                    -0.0772                      0.112   \n",
       "15996        2                    -0.5719                      0.000   \n",
       "15997        1                     0.7351                      0.674   \n",
       "15998        3                     0.3612                      0.333   \n",
       "15999        2                    -0.7935                      0.000   \n",
       "\n",
       "       NegativeSentimentAnalyzer  NeutralSentimentAnalyzer  Polarity  \\\n",
       "0                          0.000                     0.496  0.000000   \n",
       "1                          0.227                     0.503  0.000000   \n",
       "2                          0.474                     0.526 -0.500000   \n",
       "3                          0.000                     0.909 -0.500000   \n",
       "4                          0.537                     0.185  0.000000   \n",
       "...                          ...                       ...       ...   \n",
       "15995                      0.126                     0.762  0.000000   \n",
       "15996                      0.198                     0.802 -1.000000   \n",
       "15997                      0.000                     0.326  0.377778   \n",
       "15998                      0.182                     0.485  0.066667   \n",
       "15999                      0.377                     0.623 -0.800000   \n",
       "\n",
       "       Subectivity  \n",
       "0         0.000000  \n",
       "1         0.000000  \n",
       "2         0.900000  \n",
       "3         1.000000  \n",
       "4         0.000000  \n",
       "...            ...  \n",
       "15995     0.433333  \n",
       "15996     1.000000  \n",
       "15997     0.444444  \n",
       "15998     0.700000  \n",
       "15999     1.000000  \n",
       "\n",
       "[15999 rows x 7 columns]"
      ]
     },
     "execution_count": 19,
     "metadata": {},
     "output_type": "execute_result"
    }
   ],
   "source": [
    "df_final = df_num \n",
    "df_final"
   ]
  },
  {
   "cell_type": "markdown",
   "id": "87a097b7",
   "metadata": {},
   "source": [
    "NORMALIZACIÓN DATOS"
   ]
  },
  {
   "cell_type": "code",
   "execution_count": 20,
   "id": "283030b5",
   "metadata": {},
   "outputs": [
    {
     "data": {
      "text/html": [
       "<div>\n",
       "<style scoped>\n",
       "    .dataframe tbody tr th:only-of-type {\n",
       "        vertical-align: middle;\n",
       "    }\n",
       "\n",
       "    .dataframe tbody tr th {\n",
       "        vertical-align: top;\n",
       "    }\n",
       "\n",
       "    .dataframe thead th {\n",
       "        text-align: right;\n",
       "    }\n",
       "</style>\n",
       "<table border=\"1\" class=\"dataframe\">\n",
       "  <thead>\n",
       "    <tr style=\"text-align: right;\">\n",
       "      <th></th>\n",
       "      <th>Emocion</th>\n",
       "      <th>CompoundSentimentAnalyzer</th>\n",
       "      <th>PositiveSentimentAnalyzer</th>\n",
       "      <th>NegativeSentimentAnalyzer</th>\n",
       "      <th>NeutralSentimentAnalyzer</th>\n",
       "      <th>Polarity</th>\n",
       "      <th>Subectivity</th>\n",
       "    </tr>\n",
       "  </thead>\n",
       "  <tbody>\n",
       "    <tr>\n",
       "      <th>0</th>\n",
       "      <td>2</td>\n",
       "      <td>0.631076</td>\n",
       "      <td>0.504</td>\n",
       "      <td>0.000000</td>\n",
       "      <td>0.496</td>\n",
       "      <td>0.500000</td>\n",
       "      <td>0.000000</td>\n",
       "    </tr>\n",
       "    <tr>\n",
       "      <th>1</th>\n",
       "      <td>2</td>\n",
       "      <td>0.541525</td>\n",
       "      <td>0.271</td>\n",
       "      <td>0.239451</td>\n",
       "      <td>0.503</td>\n",
       "      <td>0.500000</td>\n",
       "      <td>0.000000</td>\n",
       "    </tr>\n",
       "    <tr>\n",
       "      <th>2</th>\n",
       "      <td>3</td>\n",
       "      <td>0.164728</td>\n",
       "      <td>0.000</td>\n",
       "      <td>0.500000</td>\n",
       "      <td>0.526</td>\n",
       "      <td>0.250000</td>\n",
       "      <td>0.900000</td>\n",
       "    </tr>\n",
       "    <tr>\n",
       "      <th>3</th>\n",
       "      <td>5</td>\n",
       "      <td>0.564840</td>\n",
       "      <td>0.091</td>\n",
       "      <td>0.000000</td>\n",
       "      <td>0.909</td>\n",
       "      <td>0.250000</td>\n",
       "      <td>1.000000</td>\n",
       "    </tr>\n",
       "    <tr>\n",
       "      <th>4</th>\n",
       "      <td>3</td>\n",
       "      <td>0.327119</td>\n",
       "      <td>0.278</td>\n",
       "      <td>0.566456</td>\n",
       "      <td>0.185</td>\n",
       "      <td>0.500000</td>\n",
       "      <td>0.000000</td>\n",
       "    </tr>\n",
       "    <tr>\n",
       "      <th>...</th>\n",
       "      <td>...</td>\n",
       "      <td>...</td>\n",
       "      <td>...</td>\n",
       "      <td>...</td>\n",
       "      <td>...</td>\n",
       "      <td>...</td>\n",
       "      <td>...</td>\n",
       "    </tr>\n",
       "    <tr>\n",
       "      <th>15995</th>\n",
       "      <td>2</td>\n",
       "      <td>0.460609</td>\n",
       "      <td>0.112</td>\n",
       "      <td>0.132911</td>\n",
       "      <td>0.762</td>\n",
       "      <td>0.500000</td>\n",
       "      <td>0.433333</td>\n",
       "    </tr>\n",
       "    <tr>\n",
       "      <th>15996</th>\n",
       "      <td>2</td>\n",
       "      <td>0.209326</td>\n",
       "      <td>0.000</td>\n",
       "      <td>0.208861</td>\n",
       "      <td>0.802</td>\n",
       "      <td>0.000000</td>\n",
       "      <td>1.000000</td>\n",
       "    </tr>\n",
       "    <tr>\n",
       "      <th>15997</th>\n",
       "      <td>1</td>\n",
       "      <td>0.873216</td>\n",
       "      <td>0.674</td>\n",
       "      <td>0.000000</td>\n",
       "      <td>0.326</td>\n",
       "      <td>0.688889</td>\n",
       "      <td>0.444444</td>\n",
       "    </tr>\n",
       "    <tr>\n",
       "      <th>15998</th>\n",
       "      <td>3</td>\n",
       "      <td>0.683294</td>\n",
       "      <td>0.333</td>\n",
       "      <td>0.191983</td>\n",
       "      <td>0.485</td>\n",
       "      <td>0.533333</td>\n",
       "      <td>0.700000</td>\n",
       "    </tr>\n",
       "    <tr>\n",
       "      <th>15999</th>\n",
       "      <td>2</td>\n",
       "      <td>0.096764</td>\n",
       "      <td>0.000</td>\n",
       "      <td>0.397679</td>\n",
       "      <td>0.623</td>\n",
       "      <td>0.100000</td>\n",
       "      <td>1.000000</td>\n",
       "    </tr>\n",
       "  </tbody>\n",
       "</table>\n",
       "<p>15999 rows × 7 columns</p>\n",
       "</div>"
      ],
      "text/plain": [
       "       Emocion  CompoundSentimentAnalyzer  PositiveSentimentAnalyzer  \\\n",
       "0            2                   0.631076                      0.504   \n",
       "1            2                   0.541525                      0.271   \n",
       "2            3                   0.164728                      0.000   \n",
       "3            5                   0.564840                      0.091   \n",
       "4            3                   0.327119                      0.278   \n",
       "...        ...                        ...                        ...   \n",
       "15995        2                   0.460609                      0.112   \n",
       "15996        2                   0.209326                      0.000   \n",
       "15997        1                   0.873216                      0.674   \n",
       "15998        3                   0.683294                      0.333   \n",
       "15999        2                   0.096764                      0.000   \n",
       "\n",
       "       NegativeSentimentAnalyzer  NeutralSentimentAnalyzer  Polarity  \\\n",
       "0                       0.000000                     0.496  0.500000   \n",
       "1                       0.239451                     0.503  0.500000   \n",
       "2                       0.500000                     0.526  0.250000   \n",
       "3                       0.000000                     0.909  0.250000   \n",
       "4                       0.566456                     0.185  0.500000   \n",
       "...                          ...                       ...       ...   \n",
       "15995                   0.132911                     0.762  0.500000   \n",
       "15996                   0.208861                     0.802  0.000000   \n",
       "15997                   0.000000                     0.326  0.688889   \n",
       "15998                   0.191983                     0.485  0.533333   \n",
       "15999                   0.397679                     0.623  0.100000   \n",
       "\n",
       "       Subectivity  \n",
       "0         0.000000  \n",
       "1         0.000000  \n",
       "2         0.900000  \n",
       "3         1.000000  \n",
       "4         0.000000  \n",
       "...            ...  \n",
       "15995     0.433333  \n",
       "15996     1.000000  \n",
       "15997     0.444444  \n",
       "15998     0.700000  \n",
       "15999     1.000000  \n",
       "\n",
       "[15999 rows x 7 columns]"
      ]
     },
     "execution_count": 20,
     "metadata": {},
     "output_type": "execute_result"
    }
   ],
   "source": [
    "selected_cols = df_final[['CompoundSentimentAnalyzer', 'PositiveSentimentAnalyzer', 'NegativeSentimentAnalyzer', 'NeutralSentimentAnalyzer', \n",
    "                'Polarity', 'Subectivity']].values\n",
    "scaler = MinMaxScaler()\n",
    "scaler.fit(selected_cols)\n",
    "df_final[['CompoundSentimentAnalyzer', 'PositiveSentimentAnalyzer', 'NegativeSentimentAnalyzer', 'NeutralSentimentAnalyzer', \n",
    "                'Polarity', 'Subectivity']] = scaler.transform(selected_cols)\n",
    "df_final"
   ]
  },
  {
   "cell_type": "markdown",
   "id": "3afe91ee",
   "metadata": {},
   "source": [
    "# CREACION MODELO MULTI CLASS DE CLASIFICACIÓN ONE VS ONE BASADO EN SUPPORT VECTOR MACHINE"
   ]
  },
  {
   "cell_type": "code",
   "execution_count": 21,
   "id": "2fdab2d5",
   "metadata": {},
   "outputs": [],
   "source": [
    "#Definimos los conjuntos X y Y del modelo\n",
    "Y = df_final['Emocion']\n",
    "X = df_final.drop(['Emocion'], axis=1)\n",
    "X_train, X_test, Y_train, Y_test = train_test_split(X, Y, test_size=0.2, random_state=seed)\n",
    "svm_model = SVC(random_state=seed)"
   ]
  },
  {
   "cell_type": "code",
   "execution_count": 22,
   "id": "ee07e935",
   "metadata": {},
   "outputs": [
    {
     "data": {
      "text/plain": [
       "{'gamma': 'scale', 'kernel': 'rbf'}"
      ]
     },
     "execution_count": 22,
     "metadata": {},
     "output_type": "execute_result"
    }
   ],
   "source": [
    "#Búsqueda de hiperparámetros para Gaussian Naive Bayes\n",
    "svm_particiones = KFold(n_splits=10, shuffle=True, random_state = seed) \n",
    "svm_param_grid = {'kernel':['linear','rbf'],'gamma':['scale','auto']}\n",
    "\n",
    "svm_best_model = GridSearchCV(svm_model, svm_param_grid, cv=svm_particiones)\n",
    "\n",
    "svm_best_model.fit(X_train,Y_train)\n",
    "\n",
    "svm_best_model.best_params_"
   ]
  },
  {
   "cell_type": "code",
   "execution_count": 23,
   "id": "f20570be",
   "metadata": {},
   "outputs": [
    {
     "data": {
      "text/plain": [
       "{'gamma': 'scale', 'kernel': 'rbf'}"
      ]
     },
     "execution_count": 23,
     "metadata": {},
     "output_type": "execute_result"
    }
   ],
   "source": [
    "svm_best_model.best_params_"
   ]
  },
  {
   "cell_type": "code",
   "execution_count": 24,
   "id": "a7ff4ef1",
   "metadata": {},
   "outputs": [],
   "source": [
    "final_svm = svm_best_model.best_estimator_"
   ]
  },
  {
   "cell_type": "code",
   "execution_count": 25,
   "id": "6df3be51",
   "metadata": {},
   "outputs": [],
   "source": [
    "#Entrenamos el modelo\n",
    "ovo = OneVsOneClassifier(final_svm)\n",
    "ovo.fit(X_train, Y_train)\n",
    "Y_pred = ovo.predict(X_test)"
   ]
  },
  {
   "cell_type": "code",
   "execution_count": 26,
   "id": "a6da4955",
   "metadata": {},
   "outputs": [
    {
     "name": "stdout",
     "output_type": "stream",
     "text": [
      "Exactitud sobre entrenamiento: 0.534\n",
      "Exactitud sobre test: 0.525\n"
     ]
    }
   ],
   "source": [
    "#Hacemos las predicciones\n",
    "y_pred_train = ovo.predict(X_train)\n",
    "y_pred_test = ovo.predict(X_test)\n",
    "print('Exactitud sobre entrenamiento: %.3f' % accuracy_score(Y_train, y_pred_train))\n",
    "print('Exactitud sobre test: %.3f' % accuracy_score(Y_test, y_pred_test))"
   ]
  },
  {
   "cell_type": "code",
   "execution_count": 27,
   "id": "4409db47",
   "metadata": {},
   "outputs": [
    {
     "data": {
      "text/plain": [
       "array([[890, 153,   0,   0,   0,   0],\n",
       "       [152, 788,   0,   0,   0,   0],\n",
       "       [ 76, 371,   3,   0,   1,   0],\n",
       "       [ 81, 280,   1,   0,   0,   0],\n",
       "       [223,  65,   0,   0,   0,   0],\n",
       "       [ 74,  42,   0,   0,   0,   0]], dtype=int64)"
      ]
     },
     "execution_count": 27,
     "metadata": {},
     "output_type": "execute_result"
    }
   ],
   "source": [
    "confusion_matrix(Y_test, Y_pred)"
   ]
  },
  {
   "cell_type": "code",
   "execution_count": 28,
   "id": "b8f1c32a",
   "metadata": {},
   "outputs": [
    {
     "data": {
      "image/png": "[encoded data removed]",
      "text/plain": [
       "<Figure size 432x288 with 2 Axes>"
      ]
     },
     "metadata": {
      "needs_background": "light"
     },
     "output_type": "display_data"
    }
   ],
   "source": [
    "plot_confusion_matrix(ovo, X_test, Y_test)  \n",
    "plt.show()"
   ]
  },
  {
   "cell_type": "code",
   "execution_count": 29,
   "id": "fe31d0a8",
   "metadata": {},
   "outputs": [
    {
     "name": "stdout",
     "output_type": "stream",
     "text": [
      "Exactitud: 0.53\n",
      "Recall: 0.2830429205167558\n",
      "Precisión: 0.6347870037843378\n",
      "Puntuación F1: 0.21857435525319976\n"
     ]
    }
   ],
   "source": [
    "print('Exactitud: %.2f' % accuracy_score(Y_test, Y_pred))\n",
    "print(\"Recall: {}\".format(recall_score(Y_test,Y_pred, average='macro', zero_division=1)))\n",
    "print(\"Precisión: {}\".format(precision_score(Y_test,Y_pred, average='macro', zero_division=1)))\n",
    "print(\"Puntuación F1: {}\".format(f1_score(Y_test,Y_pred, average='macro', zero_division=1)))"
   ]
  },
  {
   "cell_type": "code",
   "execution_count": 30,
   "id": "e503a524",
   "metadata": {},
   "outputs": [
    {
     "name": "stdout",
     "output_type": "stream",
     "text": [
      "              precision    recall  f1-score   support\n",
      "\n",
      "           1       0.59      0.85      0.70      1043\n",
      "           2       0.46      0.84      0.60       940\n",
      "           3       0.75      0.01      0.01       451\n",
      "           4       1.00      0.00      0.00       362\n",
      "           5       0.00      0.00      0.00       288\n",
      "           6       1.00      0.00      0.00       116\n",
      "\n",
      "    accuracy                           0.53      3200\n",
      "   macro avg       0.63      0.28      0.22      3200\n",
      "weighted avg       0.59      0.53      0.41      3200\n",
      "\n"
     ]
    }
   ],
   "source": [
    "# Mostrar reporte de clasificación\n",
    "print(classification_report(Y_test, Y_pred, zero_division = 1))"
   ]
  },
  {
   "cell_type": "markdown",
   "id": "3ed93d3a",
   "metadata": {},
   "source": [
    "# CREACION DE UN MODELO DE CLASIFICACIÓN GAUSSIAN NAIVE BAYES POR SENTIMIENTO (6)"
   ]
  },
  {
   "cell_type": "code",
   "execution_count": 31,
   "id": "486cdc05",
   "metadata": {},
   "outputs": [
    {
     "data": {
      "text/plain": [
       "Emocion                        int64\n",
       "CompoundSentimentAnalyzer    float64\n",
       "PositiveSentimentAnalyzer    float64\n",
       "NegativeSentimentAnalyzer    float64\n",
       "NeutralSentimentAnalyzer     float64\n",
       "Polarity                     float64\n",
       "Subectivity                  float64\n",
       "dtype: object"
      ]
     },
     "execution_count": 31,
     "metadata": {},
     "output_type": "execute_result"
    }
   ],
   "source": [
    "df_num = df_final.select_dtypes(['number']).copy()\n",
    "df_num.dtypes"
   ]
  },
  {
   "cell_type": "code",
   "execution_count": 32,
   "id": "4646b2f3",
   "metadata": {},
   "outputs": [],
   "source": [
    "nv = GaussianNB()"
   ]
  },
  {
   "cell_type": "markdown",
   "id": "28101da4",
   "metadata": {},
   "source": [
    "## Perfilamiento de los datos para crear 6 dataframes distintos donde haya una columna binaria por sentimiento "
   ]
  },
  {
   "cell_type": "code",
   "execution_count": 33,
   "id": "b1603848",
   "metadata": {},
   "outputs": [],
   "source": [
    "df_joy = df_num.copy()\n",
    "df_joy['emocion'] = np.where(df_joy['Emocion']==1,1, 0)\n",
    "df_joy = df_joy.drop(['Emocion'], axis=1)"
   ]
  },
  {
   "cell_type": "code",
   "execution_count": 34,
   "id": "5ebadb48",
   "metadata": {},
   "outputs": [],
   "source": [
    "df_sadness = df_num.copy()\n",
    "df_sadness['emocion'] = np.where(df_sadness['Emocion']==2,1, 0)\n",
    "df_sadness = df_sadness.drop(['Emocion'], axis=1)"
   ]
  },
  {
   "cell_type": "code",
   "execution_count": 35,
   "id": "55fb436b",
   "metadata": {},
   "outputs": [],
   "source": [
    "df_anger = df_num.copy()\n",
    "df_anger['emocion'] = np.where(df_anger['Emocion']==3,1, 0)\n",
    "df_anger = df_anger.drop(['Emocion'], axis=1)"
   ]
  },
  {
   "cell_type": "code",
   "execution_count": 36,
   "id": "1f66da3f",
   "metadata": {},
   "outputs": [],
   "source": [
    "df_fear = df_num.copy()\n",
    "df_fear['emocion'] = np.where(df_fear['Emocion']==4,1, 0)\n",
    "df_fear = df_fear.drop(['Emocion'], axis=1)"
   ]
  },
  {
   "cell_type": "code",
   "execution_count": 37,
   "id": "6c2ecd99",
   "metadata": {},
   "outputs": [],
   "source": [
    "df_love = df_num.copy()\n",
    "df_love['emocion'] = np.where(df_love['Emocion']==5,1, 0)\n",
    "df_love = df_love.drop(['Emocion'], axis=1)"
   ]
  },
  {
   "cell_type": "code",
   "execution_count": 38,
   "id": "d63feb95",
   "metadata": {},
   "outputs": [],
   "source": [
    "df_surprise = df_num.copy()\n",
    "df_surprise['emocion'] = np.where(df_surprise['Emocion']==6,1, 0)\n",
    "df_surprise = df_surprise.drop(['Emocion'], axis=1)"
   ]
  },
  {
   "cell_type": "markdown",
   "id": "cdee7b6f",
   "metadata": {},
   "source": [
    "## Creación modelo Gaussian Naive Bayes por cada sentimiento"
   ]
  },
  {
   "cell_type": "markdown",
   "id": "6c2c914e",
   "metadata": {},
   "source": [
    "### Sentimiento Joy"
   ]
  },
  {
   "cell_type": "code",
   "execution_count": 39,
   "id": "9bc0283a",
   "metadata": {},
   "outputs": [
    {
     "name": "stdout",
     "output_type": "stream",
     "text": [
      "Fitting 10 folds for each of 100 candidates, totalling 1000 fits\n"
     ]
    }
   ],
   "source": [
    "Y_joy = df_joy['emocion']\n",
    "X_joy = df_joy.drop(['emocion'], axis=1)\n",
    "X_train_joy, X_test_joy, Y_train_joy, Y_test_joy = train_test_split(X_joy, Y_joy, test_size=0.2, random_state=seed)\n",
    "#Búsqueda de hiperparámetros\n",
    "from sklearn.model_selection import RepeatedStratifiedKFold\n",
    "cv_method = RepeatedStratifiedKFold(n_splits=10,  n_repeats=1, random_state=seed)\n",
    "params_NB = {'var_smoothing': np.logspace(0,-9, num=100)}\n",
    "gs_NB_joy = GridSearchCV(estimator=nv, \n",
    "                 param_grid=params_NB, \n",
    "                 cv=cv_method,   # use any cross validation technique \n",
    "                 verbose=1, \n",
    "                 scoring='accuracy') \n",
    "gs_NB_joy.fit(X_train_joy, Y_train_joy)\n",
    "gs_NB_joy.best_params_\n",
    "gFinalMode_joy = gs_NB_joy.best_estimator_\n",
    "Y_pred_joy = gFinalMode_joy.predict(X_test_joy)"
   ]
  },
  {
   "cell_type": "code",
   "execution_count": 40,
   "id": "7e06630c",
   "metadata": {},
   "outputs": [
    {
     "name": "stdout",
     "output_type": "stream",
     "text": [
      "Exactitud sobre entrenamiento: 0.794\n",
      "Exactitud sobre test: 0.778\n"
     ]
    }
   ],
   "source": [
    "y_pred_train_joy = gFinalMode_joy.predict(X_train_joy)\n",
    "y_pred_test_joy = gFinalMode_joy.predict(X_test_joy)\n",
    "print('Exactitud sobre entrenamiento: %.3f' % accuracy_score(Y_train_joy, y_pred_train_joy))\n",
    "print('Exactitud sobre test: %.3f' % accuracy_score(Y_test_joy, y_pred_test_joy))"
   ]
  },
  {
   "cell_type": "code",
   "execution_count": 41,
   "id": "7f1ec5f6",
   "metadata": {},
   "outputs": [
    {
     "data": {
      "text/plain": [
       "array([[1690,  467],\n",
       "       [ 244,  799]], dtype=int64)"
      ]
     },
     "execution_count": 41,
     "metadata": {},
     "output_type": "execute_result"
    }
   ],
   "source": [
    "confusion_matrix(Y_test_joy, Y_pred_joy)"
   ]
  },
  {
   "cell_type": "code",
   "execution_count": 42,
   "id": "9b31a58f",
   "metadata": {},
   "outputs": [
    {
     "data": {
      "image/png": "[encoded data removed]",
      "text/plain": [
       "<Figure size 432x288 with 2 Axes>"
      ]
     },
     "metadata": {
      "needs_background": "light"
     },
     "output_type": "display_data"
    }
   ],
   "source": [
    "plot_confusion_matrix(gFinalMode_joy, X_test_joy, Y_test_joy)  \n",
    "plt.show()"
   ]
  },
  {
   "cell_type": "code",
   "execution_count": 43,
   "id": "04af5e53",
   "metadata": {},
   "outputs": [
    {
     "name": "stdout",
     "output_type": "stream",
     "text": [
      "              precision    recall  f1-score   support\n",
      "\n",
      "           0       0.87      0.78      0.83      2157\n",
      "           1       0.63      0.77      0.69      1043\n",
      "\n",
      "    accuracy                           0.78      3200\n",
      "   macro avg       0.75      0.77      0.76      3200\n",
      "weighted avg       0.79      0.78      0.78      3200\n",
      "\n"
     ]
    }
   ],
   "source": [
    "# Mostrar reporte de clasificación\n",
    "print(classification_report(Y_test_joy, Y_pred_joy))"
   ]
  },
  {
   "cell_type": "code",
   "execution_count": 44,
   "id": "2bfb07cf",
   "metadata": {},
   "outputs": [
    {
     "name": "stdout",
     "output_type": "stream",
     "text": [
      "Exactitud: 0.78\n",
      "Recall: 0.7660594439117929\n",
      "Precisión: 0.6311216429699842\n",
      "Puntuación F1: 0.6920744911216977\n"
     ]
    }
   ],
   "source": [
    "print('Exactitud: %.2f' % accuracy_score(Y_test_joy, Y_pred_joy))\n",
    "print(\"Recall: {}\".format(recall_score(Y_test_joy,Y_pred_joy)))\n",
    "print(\"Precisión: {}\".format(precision_score(Y_test_joy,Y_pred_joy)))\n",
    "print(\"Puntuación F1: {}\".format(f1_score(Y_test_joy,Y_pred_joy)))"
   ]
  },
  {
   "cell_type": "markdown",
   "id": "ebb30000",
   "metadata": {},
   "source": [
    "### Sentimiento Sadness"
   ]
  },
  {
   "cell_type": "code",
   "execution_count": 45,
   "id": "ab47b5b7",
   "metadata": {},
   "outputs": [
    {
     "name": "stdout",
     "output_type": "stream",
     "text": [
      "Fitting 10 folds for each of 100 candidates, totalling 1000 fits\n"
     ]
    }
   ],
   "source": [
    "Y_sadness = df_sadness['emocion']\n",
    "X_sadness = df_sadness.drop(['emocion'], axis=1)\n",
    "X_train_sadness, X_test_sadness, Y_train_sadness, Y_test_sadness = train_test_split(X_sadness, Y_sadness, test_size=0.2, random_state=seed)\n",
    "#Búsqueda de hiperparámetros\n",
    "from sklearn.model_selection import RepeatedStratifiedKFold\n",
    "cv_method = RepeatedStratifiedKFold(n_splits=10,  n_repeats=1, random_state=seed)\n",
    "params_NB = {'var_smoothing': np.logspace(0,-9, num=100)}\n",
    "gs_NB_sadness = GridSearchCV(estimator=nv, \n",
    "                 param_grid=params_NB, \n",
    "                 cv=cv_method,   # use any cross validation technique \n",
    "                 verbose=1, \n",
    "                 scoring='accuracy') \n",
    "gs_NB_sadness.fit(X_train_sadness, Y_train_sadness)\n",
    "gs_NB_sadness.best_params_\n",
    "gFinalMode_sadness = gs_NB_sadness.best_estimator_\n",
    "Y_pred_sadness = gFinalMode_sadness.predict(X_test_sadness)"
   ]
  },
  {
   "cell_type": "code",
   "execution_count": 46,
   "id": "2388bf85",
   "metadata": {},
   "outputs": [
    {
     "name": "stdout",
     "output_type": "stream",
     "text": [
      "Exactitud sobre entrenamiento: 0.723\n",
      "Exactitud sobre test: 0.721\n"
     ]
    }
   ],
   "source": [
    "y_pred_train_sadness = gFinalMode_sadness.predict(X_train_sadness)\n",
    "y_pred_test_sadness = gFinalMode_sadness.predict(X_test_sadness)\n",
    "print('Exactitud sobre entrenamiento: %.3f' % accuracy_score(Y_train_sadness, y_pred_train_sadness))\n",
    "print('Exactitud sobre test: %.3f' % accuracy_score(Y_test_sadness, y_pred_test_sadness))"
   ]
  },
  {
   "cell_type": "code",
   "execution_count": 47,
   "id": "8cdbb892",
   "metadata": {},
   "outputs": [
    {
     "data": {
      "text/plain": [
       "array([[1940,  320],\n",
       "       [ 573,  367]], dtype=int64)"
      ]
     },
     "execution_count": 47,
     "metadata": {},
     "output_type": "execute_result"
    }
   ],
   "source": [
    "confusion_matrix(Y_test_sadness, Y_pred_sadness)"
   ]
  },
  {
   "cell_type": "code",
   "execution_count": 48,
   "id": "5149edee",
   "metadata": {},
   "outputs": [
    {
     "data": {
      "image/png": "[encoded data removed]",
      "text/plain": [
       "<Figure size 432x288 with 2 Axes>"
      ]
     },
     "metadata": {
      "needs_background": "light"
     },
     "output_type": "display_data"
    }
   ],
   "source": [
    "plot_confusion_matrix(gFinalMode_sadness, X_test_sadness, Y_test_sadness)  \n",
    "plt.show()"
   ]
  },
  {
   "cell_type": "code",
   "execution_count": 49,
   "id": "7eb073fb",
   "metadata": {},
   "outputs": [
    {
     "name": "stdout",
     "output_type": "stream",
     "text": [
      "              precision    recall  f1-score   support\n",
      "\n",
      "           0       0.77      0.86      0.81      2260\n",
      "           1       0.53      0.39      0.45       940\n",
      "\n",
      "    accuracy                           0.72      3200\n",
      "   macro avg       0.65      0.62      0.63      3200\n",
      "weighted avg       0.70      0.72      0.71      3200\n",
      "\n"
     ]
    }
   ],
   "source": [
    "# Mostrar reporte de clasificación\n",
    "print(classification_report(Y_test_sadness, Y_pred_sadness, zero_division=1))"
   ]
  },
  {
   "cell_type": "code",
   "execution_count": 50,
   "id": "bb124a2e",
   "metadata": {},
   "outputs": [
    {
     "name": "stdout",
     "output_type": "stream",
     "text": [
      "Exactitud: 0.72\n",
      "Recall: 0.3904255319148936\n",
      "Precisión: 0.5342066957787481\n",
      "Puntuación F1: 0.4511370620774431\n"
     ]
    }
   ],
   "source": [
    "print('Exactitud: %.2f' % accuracy_score(Y_test_sadness, Y_pred_sadness))\n",
    "print(\"Recall: {}\".format(recall_score(Y_test_sadness,Y_pred_sadness)))\n",
    "print(\"Precisión: {}\".format(precision_score(Y_test_sadness,Y_pred_sadness)))\n",
    "print(\"Puntuación F1: {}\".format(f1_score(Y_test_sadness,Y_pred_sadness)))"
   ]
  },
  {
   "cell_type": "markdown",
   "id": "0748826a",
   "metadata": {},
   "source": [
    "### Sentimiento Anger"
   ]
  },
  {
   "cell_type": "code",
   "execution_count": 51,
   "id": "0cce6ecf",
   "metadata": {},
   "outputs": [
    {
     "name": "stdout",
     "output_type": "stream",
     "text": [
      "Fitting 10 folds for each of 100 candidates, totalling 1000 fits\n"
     ]
    }
   ],
   "source": [
    "Y_anger = df_anger['emocion']\n",
    "X_anger = df_anger.drop(['emocion'], axis=1)\n",
    "X_train_anger, X_test_anger, Y_train_anger, Y_test_anger = train_test_split(X_anger, Y_anger, test_size=0.2, random_state=seed)\n",
    "#Búsqueda de hiperparámetros\n",
    "from sklearn.model_selection import RepeatedStratifiedKFold\n",
    "cv_method = RepeatedStratifiedKFold(n_splits=10,  n_repeats=1, random_state=seed)\n",
    "params_NB = {'var_smoothing': np.logspace(0,-9, num=100)}\n",
    "gs_NB_anger = GridSearchCV(estimator=nv, \n",
    "                 param_grid=params_NB, \n",
    "                 cv=cv_method,   # use any cross validation technique \n",
    "                 verbose=1, \n",
    "                 scoring='accuracy') \n",
    "gs_NB_anger.fit(X_train_anger, Y_train_anger)\n",
    "gs_NB_anger.best_params_\n",
    "gFinalMode_anger = gs_NB_anger.best_estimator_\n",
    "Y_pred_anger = gFinalMode_anger.predict(X_test_anger)"
   ]
  },
  {
   "cell_type": "code",
   "execution_count": 52,
   "id": "10979a53",
   "metadata": {},
   "outputs": [
    {
     "name": "stdout",
     "output_type": "stream",
     "text": [
      "Exactitud sobre entrenamiento: 0.867\n",
      "Exactitud sobre test: 0.859\n"
     ]
    }
   ],
   "source": [
    "y_pred_train_anger = gFinalMode_anger.predict(X_train_anger)\n",
    "y_pred_test_anger = gFinalMode_anger.predict(X_test_anger)\n",
    "print('Exactitud sobre entrenamiento: %.3f' % accuracy_score(Y_train_anger, y_pred_train_anger))\n",
    "print('Exactitud sobre test: %.3f' % accuracy_score(Y_test_anger, y_pred_test_anger))"
   ]
  },
  {
   "cell_type": "code",
   "execution_count": 53,
   "id": "d0d5863a",
   "metadata": {},
   "outputs": [
    {
     "data": {
      "text/plain": [
       "array([[2749,    0],\n",
       "       [ 451,    0]], dtype=int64)"
      ]
     },
     "execution_count": 53,
     "metadata": {},
     "output_type": "execute_result"
    }
   ],
   "source": [
    "confusion_matrix(Y_test_anger, Y_pred_anger)"
   ]
  },
  {
   "cell_type": "code",
   "execution_count": 54,
   "id": "eca08d00",
   "metadata": {},
   "outputs": [
    {
     "data": {
      "image/png": "[encoded data removed]",
      "text/plain": [
       "<Figure size 432x288 with 2 Axes>"
      ]
     },
     "metadata": {
      "needs_background": "light"
     },
     "output_type": "display_data"
    }
   ],
   "source": [
    "plot_confusion_matrix(gFinalMode_anger, X_test_anger, Y_test_anger)  \n",
    "plt.show()"
   ]
  },
  {
   "cell_type": "code",
   "execution_count": 55,
   "id": "43c27b2c",
   "metadata": {},
   "outputs": [
    {
     "name": "stdout",
     "output_type": "stream",
     "text": [
      "              precision    recall  f1-score   support\n",
      "\n",
      "           0       0.86      1.00      0.92      2749\n",
      "           1       1.00      0.00      0.00       451\n",
      "\n",
      "    accuracy                           0.86      3200\n",
      "   macro avg       0.93      0.50      0.46      3200\n",
      "weighted avg       0.88      0.86      0.79      3200\n",
      "\n"
     ]
    }
   ],
   "source": [
    "# Mostrar reporte de clasificación\n",
    "print(classification_report(Y_test_anger, Y_pred_anger, zero_division=1))"
   ]
  },
  {
   "cell_type": "code",
   "execution_count": 56,
   "id": "b3210436",
   "metadata": {},
   "outputs": [
    {
     "name": "stdout",
     "output_type": "stream",
     "text": [
      "Exactitud: 0.86\n",
      "Recall: 0.0\n",
      "Precisión: 1.0\n",
      "Puntuación F1: 0.0\n"
     ]
    }
   ],
   "source": [
    "print('Exactitud: %.2f' % accuracy_score(Y_test_anger, Y_pred_anger))\n",
    "print(\"Recall: {}\".format(recall_score(Y_test_anger,Y_pred_anger)))\n",
    "print(\"Precisión: {}\".format(precision_score(Y_test_anger,Y_pred_anger, zero_division=1)))\n",
    "print(\"Puntuación F1: {}\".format(f1_score(Y_test_anger,Y_pred_anger)))"
   ]
  },
  {
   "cell_type": "markdown",
   "id": "1137cdb3",
   "metadata": {},
   "source": [
    "### Sentimiento Fear"
   ]
  },
  {
   "cell_type": "code",
   "execution_count": 57,
   "id": "88fd4d68",
   "metadata": {},
   "outputs": [
    {
     "name": "stdout",
     "output_type": "stream",
     "text": [
      "Fitting 10 folds for each of 100 candidates, totalling 1000 fits\n"
     ]
    }
   ],
   "source": [
    "Y_fear = df_fear['emocion']\n",
    "X_fear = df_fear.drop(['emocion'], axis=1)\n",
    "X_train_fear, X_test_fear, Y_train_fear, Y_test_fear = train_test_split(X_fear, Y_fear, test_size=0.2, random_state=seed)\n",
    "#Búsqueda de hiperparámetros\n",
    "from sklearn.model_selection import RepeatedStratifiedKFold\n",
    "cv_method = RepeatedStratifiedKFold(n_splits=10,  n_repeats=1, random_state=seed)\n",
    "params_NB = {'var_smoothing': np.logspace(0,-9, num=100)}\n",
    "gs_NB_fear = GridSearchCV(estimator=nv, \n",
    "                 param_grid=params_NB, \n",
    "                 cv=cv_method,   # use any cross validation technique \n",
    "                 verbose=1, \n",
    "                 scoring='accuracy') \n",
    "gs_NB_fear.fit(X_train_fear, Y_train_fear)\n",
    "gs_NB_fear.best_params_\n",
    "gFinalMode_fear = gs_NB_fear.best_estimator_\n",
    "Y_pred_fear = gFinalMode_fear.predict(X_test_fear)"
   ]
  },
  {
   "cell_type": "code",
   "execution_count": 58,
   "id": "f2445966",
   "metadata": {},
   "outputs": [
    {
     "name": "stdout",
     "output_type": "stream",
     "text": [
      "Exactitud sobre entrenamiento: 0.877\n",
      "Exactitud sobre test: 0.887\n"
     ]
    }
   ],
   "source": [
    "y_pred_train_fear = gFinalMode_fear.predict(X_train_fear)\n",
    "y_pred_test_fear = gFinalMode_fear.predict(X_test_fear)\n",
    "print('Exactitud sobre entrenamiento: %.3f' % accuracy_score(Y_train_fear, y_pred_train_fear))\n",
    "print('Exactitud sobre test: %.3f' % accuracy_score(Y_test_fear, y_pred_test_fear))"
   ]
  },
  {
   "cell_type": "code",
   "execution_count": 59,
   "id": "f0929fb3",
   "metadata": {},
   "outputs": [
    {
     "data": {
      "text/plain": [
       "array([[2838,    0],\n",
       "       [ 362,    0]], dtype=int64)"
      ]
     },
     "execution_count": 59,
     "metadata": {},
     "output_type": "execute_result"
    }
   ],
   "source": [
    "confusion_matrix(Y_test_fear, Y_pred_fear)"
   ]
  },
  {
   "cell_type": "code",
   "execution_count": 60,
   "id": "9e2bb976",
   "metadata": {},
   "outputs": [
    {
     "data": {
      "image/png": "[encoded data removed]",
      "text/plain": [
       "<Figure size 432x288 with 2 Axes>"
      ]
     },
     "metadata": {
      "needs_background": "light"
     },
     "output_type": "display_data"
    }
   ],
   "source": [
    "plot_confusion_matrix(gFinalMode_fear, X_test_fear, Y_test_fear)  \n",
    "plt.show()"
   ]
  },
  {
   "cell_type": "code",
   "execution_count": 61,
   "id": "f12bd4de",
   "metadata": {},
   "outputs": [
    {
     "name": "stdout",
     "output_type": "stream",
     "text": [
      "              precision    recall  f1-score   support\n",
      "\n",
      "           0       0.89      1.00      0.94      2838\n",
      "           1       1.00      0.00      0.00       362\n",
      "\n",
      "    accuracy                           0.89      3200\n",
      "   macro avg       0.94      0.50      0.47      3200\n",
      "weighted avg       0.90      0.89      0.83      3200\n",
      "\n"
     ]
    }
   ],
   "source": [
    "# Mostrar reporte de clasificación\n",
    "print(classification_report(Y_test_fear, Y_pred_fear, zero_division=1))"
   ]
  },
  {
   "cell_type": "code",
   "execution_count": 62,
   "id": "2635c8be",
   "metadata": {},
   "outputs": [
    {
     "name": "stdout",
     "output_type": "stream",
     "text": [
      "Exactitud: 0.89\n",
      "Recall: 0.0\n",
      "Precisión: 1.0\n",
      "Puntuación F1: 0.0\n"
     ]
    }
   ],
   "source": [
    "print('Exactitud: %.2f' % accuracy_score(Y_test_fear, Y_pred_fear))\n",
    "print(\"Recall: {}\".format(recall_score(Y_test_fear,Y_pred_fear)))\n",
    "print(\"Precisión: {}\".format(precision_score(Y_test_fear,Y_pred_fear, zero_division=1)))\n",
    "print(\"Puntuación F1: {}\".format(f1_score(Y_test_fear,Y_pred_fear)))"
   ]
  },
  {
   "cell_type": "markdown",
   "id": "18bac5fb",
   "metadata": {},
   "source": [
    "### Sentimiento Love"
   ]
  },
  {
   "cell_type": "code",
   "execution_count": 63,
   "id": "50e4e98d",
   "metadata": {},
   "outputs": [
    {
     "name": "stdout",
     "output_type": "stream",
     "text": [
      "Fitting 10 folds for each of 100 candidates, totalling 1000 fits\n"
     ]
    }
   ],
   "source": [
    "Y_love = df_love['emocion']\n",
    "X_love = df_love.drop(['emocion'], axis=1)\n",
    "X_train_love, X_test_love, Y_train_love, Y_test_love = train_test_split(X_love, Y_love, test_size=0.2, random_state=seed)\n",
    "#Búsqueda de hiperparámetros\n",
    "from sklearn.model_selection import RepeatedStratifiedKFold\n",
    "cv_method = RepeatedStratifiedKFold(n_splits=10,  n_repeats=1, random_state=seed)\n",
    "params_NB = {'var_smoothing': np.logspace(0,-9, num=100)}\n",
    "gs_NB_love = GridSearchCV(estimator=nv, \n",
    "                 param_grid=params_NB, \n",
    "                 cv=cv_method,   # use any cross validation technique \n",
    "                 verbose=1, \n",
    "                 scoring='accuracy') \n",
    "gs_NB_love.fit(X_train_love, Y_train_love)\n",
    "gs_NB_love.best_params_\n",
    "gFinalMode_love = gs_NB_love.best_estimator_\n",
    "Y_pred_love = gFinalMode_love.predict(X_test_love)"
   ]
  },
  {
   "cell_type": "code",
   "execution_count": 64,
   "id": "1183e443",
   "metadata": {},
   "outputs": [
    {
     "name": "stdout",
     "output_type": "stream",
     "text": [
      "Exactitud sobre entrenamiento: 0.921\n",
      "Exactitud sobre test: 0.910\n"
     ]
    }
   ],
   "source": [
    "y_pred_train_love = gFinalMode_love.predict(X_train_love)\n",
    "y_pred_test_love = gFinalMode_love.predict(X_test_love)\n",
    "print('Exactitud sobre entrenamiento: %.3f' % accuracy_score(Y_train_love, y_pred_train_love))\n",
    "print('Exactitud sobre test: %.3f' % accuracy_score(Y_test_love, y_pred_test_love))"
   ]
  },
  {
   "cell_type": "code",
   "execution_count": 65,
   "id": "19004a90",
   "metadata": {},
   "outputs": [
    {
     "data": {
      "text/plain": [
       "array([[2912,    0],\n",
       "       [ 288,    0]], dtype=int64)"
      ]
     },
     "execution_count": 65,
     "metadata": {},
     "output_type": "execute_result"
    }
   ],
   "source": [
    "confusion_matrix(Y_test_love, Y_pred_love)"
   ]
  },
  {
   "cell_type": "code",
   "execution_count": 66,
   "id": "bd91a5c4",
   "metadata": {},
   "outputs": [
    {
     "data": {
      "image/png": "[encoded data removed]",
      "text/plain": [
       "<Figure size 432x288 with 2 Axes>"
      ]
     },
     "metadata": {
      "needs_background": "light"
     },
     "output_type": "display_data"
    }
   ],
   "source": [
    "plot_confusion_matrix(gFinalMode_love, X_test_love, Y_test_love)  \n",
    "plt.show()"
   ]
  },
  {
   "cell_type": "code",
   "execution_count": 67,
   "id": "65d09180",
   "metadata": {},
   "outputs": [
    {
     "name": "stdout",
     "output_type": "stream",
     "text": [
      "              precision    recall  f1-score   support\n",
      "\n",
      "           0       0.91      1.00      0.95      2912\n",
      "           1       1.00      0.00      0.00       288\n",
      "\n",
      "    accuracy                           0.91      3200\n",
      "   macro avg       0.96      0.50      0.48      3200\n",
      "weighted avg       0.92      0.91      0.87      3200\n",
      "\n"
     ]
    }
   ],
   "source": [
    "# Mostrar reporte de clasificación\n",
    "print(classification_report(Y_test_love, Y_pred_love, zero_division=1))"
   ]
  },
  {
   "cell_type": "code",
   "execution_count": 68,
   "id": "ef11003d",
   "metadata": {},
   "outputs": [
    {
     "name": "stdout",
     "output_type": "stream",
     "text": [
      "Exactitud: 0.91\n",
      "Recall: 0.0\n",
      "Precisión: 1.0\n",
      "Puntuación F1: 0.0\n"
     ]
    }
   ],
   "source": [
    "print('Exactitud: %.2f' % accuracy_score(Y_test_love, Y_pred_love))\n",
    "print(\"Recall: {}\".format(recall_score(Y_test_love,Y_pred_love)))\n",
    "print(\"Precisión: {}\".format(precision_score(Y_test_love,Y_pred_love, zero_division=1)))\n",
    "print(\"Puntuación F1: {}\".format(f1_score(Y_test_love,Y_pred_love)))"
   ]
  },
  {
   "cell_type": "markdown",
   "id": "e6eae595",
   "metadata": {},
   "source": [
    "### Sentimiento Surprise"
   ]
  },
  {
   "cell_type": "code",
   "execution_count": 69,
   "id": "2112906e",
   "metadata": {},
   "outputs": [
    {
     "name": "stdout",
     "output_type": "stream",
     "text": [
      "Fitting 10 folds for each of 100 candidates, totalling 1000 fits\n"
     ]
    }
   ],
   "source": [
    "Y_surprise = df_surprise['emocion']\n",
    "X_surprise = df_surprise.drop(['emocion'], axis=1)\n",
    "X_train_surprise, X_test_surprise, Y_train_surprise, Y_test_surprise = train_test_split(X_surprise, Y_surprise, test_size=0.2, random_state=seed)\n",
    "#Búsqueda de hiperparámetros\n",
    "from sklearn.model_selection import RepeatedStratifiedKFold\n",
    "cv_method = RepeatedStratifiedKFold(n_splits=10,  n_repeats=1, random_state=seed)\n",
    "params_NB = {'var_smoothing': np.logspace(0,-9, num=100)}\n",
    "gs_NB_surprise = GridSearchCV(estimator=nv, \n",
    "                 param_grid=params_NB, \n",
    "                 cv=cv_method,   # use any cross validation technique \n",
    "                 verbose=1, \n",
    "                 scoring='accuracy') \n",
    "gs_NB_surprise.fit(X_train_surprise, Y_train_surprise)\n",
    "gs_NB_surprise.best_params_\n",
    "gFinalMode_surprise = gs_NB_surprise.best_estimator_\n",
    "Y_pred_surprise = gFinalMode_surprise.predict(X_test_surprise)"
   ]
  },
  {
   "cell_type": "code",
   "execution_count": 70,
   "id": "6b90decd",
   "metadata": {},
   "outputs": [
    {
     "name": "stdout",
     "output_type": "stream",
     "text": [
      "Exactitud sobre entrenamiento: 0.964\n",
      "Exactitud sobre test: 0.964\n"
     ]
    }
   ],
   "source": [
    "y_pred_train_surprise = gFinalMode_surprise.predict(X_train_surprise)\n",
    "y_pred_test_surprise = gFinalMode_surprise.predict(X_test_surprise)\n",
    "print('Exactitud sobre entrenamiento: %.3f' % accuracy_score(Y_train_surprise, y_pred_train_surprise))\n",
    "print('Exactitud sobre test: %.3f' % accuracy_score(Y_test_surprise, y_pred_test_surprise))"
   ]
  },
  {
   "cell_type": "code",
   "execution_count": 71,
   "id": "6c9dfc51",
   "metadata": {},
   "outputs": [
    {
     "data": {
      "text/plain": [
       "array([[3084,    0],\n",
       "       [ 116,    0]], dtype=int64)"
      ]
     },
     "execution_count": 71,
     "metadata": {},
     "output_type": "execute_result"
    }
   ],
   "source": [
    "confusion_matrix(Y_test_surprise, Y_pred_surprise)"
   ]
  },
  {
   "cell_type": "code",
   "execution_count": 72,
   "id": "3b190116",
   "metadata": {},
   "outputs": [
    {
     "data": {
      "image/png": "[encoded data removed]",
      "text/plain": [
       "<Figure size 432x288 with 2 Axes>"
      ]
     },
     "metadata": {
      "needs_background": "light"
     },
     "output_type": "display_data"
    }
   ],
   "source": [
    "plot_confusion_matrix(gFinalMode_surprise, X_test_surprise, Y_test_surprise)  \n",
    "plt.show()"
   ]
  },
  {
   "cell_type": "code",
   "execution_count": 73,
   "id": "97131eb2",
   "metadata": {},
   "outputs": [
    {
     "name": "stdout",
     "output_type": "stream",
     "text": [
      "              precision    recall  f1-score   support\n",
      "\n",
      "           0       0.96      1.00      0.98      3084\n",
      "           1       1.00      0.00      0.00       116\n",
      "\n",
      "    accuracy                           0.96      3200\n",
      "   macro avg       0.98      0.50      0.49      3200\n",
      "weighted avg       0.97      0.96      0.95      3200\n",
      "\n"
     ]
    }
   ],
   "source": [
    "# Mostrar reporte de clasificación\n",
    "print(classification_report(Y_test_surprise, Y_pred_surprise, zero_division=1))"
   ]
  },
  {
   "cell_type": "code",
   "execution_count": 74,
   "id": "aae71435",
   "metadata": {},
   "outputs": [
    {
     "name": "stdout",
     "output_type": "stream",
     "text": [
      "Exactitud: 0.96\n",
      "Recall: 0.0\n",
      "Precisión: 1.0\n",
      "Puntuación F1: 0.0\n"
     ]
    }
   ],
   "source": [
    "print('Exactitud: %.2f' % accuracy_score(Y_test_surprise, Y_pred_surprise))\n",
    "print(\"Recall: {}\".format(recall_score(Y_test_surprise,Y_pred_surprise)))\n",
    "print(\"Precisión: {}\".format(precision_score(Y_test_surprise,Y_pred_surprise,zero_division=1)))\n",
    "print(\"Puntuación F1: {}\".format(f1_score(Y_test_surprise,Y_pred_surprise)))"
   ]
  },
  {
   "cell_type": "markdown",
   "id": "a8a8d7a8",
   "metadata": {},
   "source": [
    "# CREACION MODELO MULTI CLASS DE CLASIFICACIÓN ONE VS REST BASADO EN ÁRBOLES"
   ]
  },
  {
   "cell_type": "code",
   "execution_count": 75,
   "id": "ead92297",
   "metadata": {},
   "outputs": [],
   "source": [
    "# Se selecciona la variable objetivo, en este caso \"Popularity_label\".\n",
    "Y_tree = df_final['Emocion']\n",
    "# Del conjunto de datos se elimina la variable \"Popularity_label\"\n",
    "X_tree = df_final.drop(['Emocion'], axis=1)\n",
    "\n",
    "X_train_tree, X_test_tree, Y_train_tree, Y_test_tree = train_test_split(X_tree, Y_tree, test_size=0.2, random_state=seed)"
   ]
  },
  {
   "cell_type": "code",
   "execution_count": 76,
   "id": "1efbac60",
   "metadata": {},
   "outputs": [],
   "source": [
    "#mos el modelo sin ningún valor de estos hiperparámetros\n",
    "tree = DecisionTreeClassifier(random_state=seed)"
   ]
  },
  {
   "cell_type": "code",
   "execution_count": 77,
   "id": "5730c63e",
   "metadata": {},
   "outputs": [],
   "source": [
    "# Fijemos el número de particiones. Utilizaremos K = 10.\n",
    "particiones = KFold(n_splits=10, shuffle=True, random_state = seed)"
   ]
  },
  {
   "cell_type": "code",
   "execution_count": 78,
   "id": "f7b607de",
   "metadata": {},
   "outputs": [],
   "source": [
    "# Establecemos el espacio de búsqueda para los hiperparámetros que deseamos ajustar. \n",
    "param_grid = {'criterion':['gini', 'entropy'],'max_depth':[3,4,5,6,7,8,9,10],'min_samples_split':[2, 3, 4, 5,6,7,8,9]}"
   ]
  },
  {
   "cell_type": "code",
   "execution_count": 79,
   "id": "5b6155c2",
   "metadata": {},
   "outputs": [
    {
     "data": {
      "text/plain": [
       "GridSearchCV(cv=KFold(n_splits=10, random_state=161, shuffle=True),\n",
       "             estimator=DecisionTreeClassifier(random_state=161),\n",
       "             param_grid={'criterion': ['gini', 'entropy'],\n",
       "                         'max_depth': [3, 4, 5, 6, 7, 8, 9, 10],\n",
       "                         'min_samples_split': [2, 3, 4, 5, 6, 7, 8, 9]})"
      ]
     },
     "execution_count": 79,
     "metadata": {},
     "output_type": "execute_result"
    }
   ],
   "source": [
    "# Ahora utilizamos GridSearch sobre el grid definido y con 10 particiones en la validación cruzada.\n",
    "best_model_tree = GridSearchCV(tree, param_grid, cv=particiones)\n",
    "# Ajuste del modelo\n",
    "best_model_tree.fit(X_train_tree, Y_train_tree)"
   ]
  },
  {
   "cell_type": "code",
   "execution_count": 80,
   "id": "a993b28a",
   "metadata": {},
   "outputs": [
    {
     "data": {
      "text/plain": [
       "{'criterion': 'entropy', 'max_depth': 7, 'min_samples_split': 5}"
      ]
     },
     "execution_count": 80,
     "metadata": {},
     "output_type": "execute_result"
    }
   ],
   "source": [
    "# Podemos ver cuál fue el resultado de la búsqueda (mejores valores de hiperparámetros)\n",
    "best_model_tree.best_params_"
   ]
  },
  {
   "cell_type": "code",
   "execution_count": 81,
   "id": "67a5ff58",
   "metadata": {},
   "outputs": [],
   "source": [
    "# Obtener el mejor modelo.\n",
    "final_tree = best_model_tree.best_estimator_\n"
   ]
  },
  {
   "cell_type": "code",
   "execution_count": 82,
   "id": "b650343c",
   "metadata": {},
   "outputs": [],
   "source": [
    "#Entrenamos el modelo\n",
    "ovr = OneVsRestClassifier(final_tree)\n",
    "ovr.fit(X_train_tree, Y_train_tree)\n",
    "Y_pred_tree = ovr.predict(X_test_tree)"
   ]
  },
  {
   "cell_type": "code",
   "execution_count": 83,
   "id": "d2a44bc5",
   "metadata": {},
   "outputs": [
    {
     "name": "stdout",
     "output_type": "stream",
     "text": [
      "Exactitud sobre entrenamiento: 0.572\n",
      "Exactitud sobre test: 0.516\n"
     ]
    }
   ],
   "source": [
    "#Hacemos las predicciones\n",
    "y_pred_train_tree = ovr.predict(X_train_tree)\n",
    "y_pred_test_tree = ovr.predict(X_test_tree)\n",
    "print('Exactitud sobre entrenamiento: %.3f' % accuracy_score(Y_train_tree, y_pred_train_tree))\n",
    "print('Exactitud sobre test: %.3f' % accuracy_score(Y_test_tree, y_pred_test_tree))"
   ]
  },
  {
   "cell_type": "code",
   "execution_count": 84,
   "id": "d523ab9a",
   "metadata": {},
   "outputs": [
    {
     "data": {
      "text/plain": [
       "array([[851, 158,   5,  19,   7,   3],\n",
       "       [140, 736,  26,  30,   4,   4],\n",
       "       [ 71, 344,  17,  14,   4,   1],\n",
       "       [ 75, 244,   6,  30,   2,   5],\n",
       "       [209,  61,   3,   4,   9,   2],\n",
       "       [ 63,  40,   1,   4,   0,   8]], dtype=int64)"
      ]
     },
     "execution_count": 84,
     "metadata": {},
     "output_type": "execute_result"
    }
   ],
   "source": [
    "confusion_matrix(Y_test_tree, Y_pred_tree)"
   ]
  },
  {
   "cell_type": "code",
   "execution_count": 85,
   "id": "90ea132b",
   "metadata": {},
   "outputs": [
    {
     "data": {
      "image/png": "[encoded data removed]",
      "text/plain": [
       "<Figure size 432x288 with 2 Axes>"
      ]
     },
     "metadata": {
      "needs_background": "light"
     },
     "output_type": "display_data"
    }
   ],
   "source": [
    "plot_confusion_matrix(ovr, X_test_tree, Y_test_tree)  \n",
    "plt.show()"
   ]
  },
  {
   "cell_type": "code",
   "execution_count": 86,
   "id": "609ba7fd",
   "metadata": {},
   "outputs": [
    {
     "name": "stdout",
     "output_type": "stream",
     "text": [
      "Exactitud: 0.52\n",
      "Recall: 0.5159375\n",
      "Precisión: 0.4521073377699153\n",
      "Puntuación F1: 0.4310313896513749\n"
     ]
    }
   ],
   "source": [
    "print('Exactitud: %.2f' % accuracy_score(Y_test_tree, Y_pred_tree))\n",
    "print(\"Recall: {}\".format(recall_score(Y_test_tree,Y_pred_tree, average='weighted', zero_division=1)))\n",
    "print(\"Precisión: {}\".format(precision_score(Y_test_tree,Y_pred_tree, average='weighted', zero_division=1)))\n",
    "print(\"Puntuación F1: {}\".format(f1_score(Y_test_tree,Y_pred_tree, average='weighted', zero_division=1)))"
   ]
  },
  {
   "cell_type": "code",
   "execution_count": 87,
   "id": "6ee03696",
   "metadata": {},
   "outputs": [
    {
     "name": "stdout",
     "output_type": "stream",
     "text": [
      "              precision    recall  f1-score   support\n",
      "\n",
      "           1       0.60      0.82      0.69      1043\n",
      "           2       0.46      0.78      0.58       940\n",
      "           3       0.29      0.04      0.07       451\n",
      "           4       0.30      0.08      0.13       362\n",
      "           5       0.35      0.03      0.06       288\n",
      "           6       0.35      0.07      0.12       116\n",
      "\n",
      "    accuracy                           0.52      3200\n",
      "   macro avg       0.39      0.30      0.27      3200\n",
      "weighted avg       0.45      0.52      0.43      3200\n",
      "\n"
     ]
    }
   ],
   "source": [
    "# Mostrar reporte de clasificación\n",
    "print(classification_report(Y_test_tree, Y_pred_tree, zero_division = 1))"
   ]
  },
  {
   "cell_type": "code",
   "execution_count": null,
   "id": "2095482f",
   "metadata": {},
   "outputs": [],
   "source": []
  },
  {
   "cell_type": "code",
   "execution_count": null,
   "id": "c04409d5",
   "metadata": {},
   "outputs": [],
   "source": []
  }
 ],
 "metadata": {
  "kernelspec": {
   "display_name": "Python 3",
   "language": "python",
   "name": "python3"
  },
  "language_info": {
   "codemirror_mode": {
    "name": "ipython",
    "version": 3
   },
   "file_extension": ".py",
   "mimetype": "text/x-python",
   "name": "python",
   "nbconvert_exporter": "python",
   "pygments_lexer": "ipython3",
   "version": "3.8.8"
  }
 },
 "nbformat": 4,
 "nbformat_minor": 5
}
